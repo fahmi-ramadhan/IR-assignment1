{
  "cells": [
    {
      "cell_type": "markdown",
      "metadata": {
        "id": "UxtjrQpxbY1y"
      },
      "source": [
        "# Tugas Pemrograman 1 Information Retrieval\n",
        "\n"
      ]
    },
    {
      "cell_type": "markdown",
      "metadata": {
        "id": "0qt5fBUvnMrh"
      },
      "source": [
        "Author: Muhammad Ilham Ghozali dan Jaycent Gunawan Ongris"
      ]
    },
    {
      "cell_type": "markdown",
      "metadata": {
        "id": "hX5svVG5tI0w"
      },
      "source": [
        "Nama: Fahmi Ramadhan\n",
        "\n",
        "NPM: 2206026473\n",
        "\n",
        "\n",
        "---\n",
        "\n"
      ]
    },
    {
      "cell_type": "markdown",
      "metadata": {
        "id": "-tsPDjhTbcTV"
      },
      "source": [
        "Pada tugas ini, Anda akan belajar menggunakan tools populer yang digunakan untuk text preprocessing pada Bahasa Indonesia dan Inggris. Selain itu, Anda juga akan mengimplementasikan data-driven tokenizers yang populer seperti Byte Pair Encoding dan WordPiece, serta menerapkannya untuk melakukan tokenization bahasa lain yang tidak menggunakan spasi."
      ]
    },
    {
      "cell_type": "markdown",
      "metadata": {
        "id": "_tYZ6vF1fPF9"
      },
      "source": [
        "## Requirements"
      ]
    },
    {
      "cell_type": "code",
      "execution_count": 1,
      "metadata": {
        "id": "O24JvA6RfRAH"
      },
      "outputs": [
        {
          "name": "stdout",
          "output_type": "stream",
          "text": [
            "Note: you may need to restart the kernel to use updated packages.\n"
          ]
        },
        {
          "name": "stderr",
          "output_type": "stream",
          "text": [
            "\n",
            "[notice] A new release of pip is available: 24.3.1 -> 25.0.1\n",
            "[notice] To update, run: python.exe -m pip install --upgrade pip\n"
          ]
        }
      ],
      "source": [
        "%pip install --q datasets PySastrawi jieba"
      ]
    },
    {
      "cell_type": "markdown",
      "metadata": {
        "id": "VArRktDZb8u-"
      },
      "source": [
        "## Conventional Text Processing"
      ]
    },
    {
      "cell_type": "markdown",
      "metadata": {
        "id": "4u9VADVBB3Lt"
      },
      "source": [
        "Secara umum, terdapat beberapa tahapan yang dilakukan untuk text preprocessing, yakni tokenization, stemming (atau lemmatization), dan stopwords removal."
      ]
    },
    {
      "cell_type": "markdown",
      "metadata": {
        "id": "l6nIsbKxCrRW"
      },
      "source": [
        "Pada kode demo berikut, Anda akan belajar cara melakukan text preprocessing dalam bahasa Inggris. Akan tetapi, pada tugas yang harus Anda kerjakan, Anda akan melakukan text preprocessing dokumen dalam bahasa Indonesia. Corpus yang akan digunakan adalah MSMARCO."
      ]
    },
    {
      "cell_type": "code",
      "execution_count": 2,
      "metadata": {
        "id": "KghUl3JzDhwD"
      },
      "outputs": [
        {
          "name": "stderr",
          "output_type": "stream",
          "text": [
            "c:\\Users\\USER\\AppData\\Local\\Programs\\Python\\Python313\\Lib\\site-packages\\tqdm\\auto.py:21: TqdmWarning: IProgress not found. Please update jupyter and ipywidgets. See https://ipywidgets.readthedocs.io/en/stable/user_install.html\n",
            "  from .autonotebook import tqdm as notebook_tqdm\n"
          ]
        },
        {
          "data": {
            "text/plain": [
              "Dataset({\n",
              "    features: ['_id', 'title', 'text'],\n",
              "    num_rows: 442091\n",
              "})"
            ]
          },
          "execution_count": 2,
          "metadata": {},
          "output_type": "execute_result"
        }
      ],
      "source": [
        "from datasets import load_dataset\n",
        "\n",
        "dataset_eng = load_dataset(\"BeIR/msmarco\", \"corpus\", split=\"corpus[:5%]\")\n",
        "dataset_eng"
      ]
    },
    {
      "cell_type": "code",
      "execution_count": 3,
      "metadata": {
        "id": "t-Ie_ha6EMxD"
      },
      "outputs": [
        {
          "data": {
            "text/plain": [
              "{'_id': '0',\n",
              " 'title': '',\n",
              " 'text': 'The presence of communication amid scientific minds was equally important to the success of the Manhattan Project as scientific intellect was. The only cloud hanging over the impressive achievement of the atomic researchers and engineers is what their success truly meant; hundreds of thousands of innocent lives obliterated.'}"
            ]
          },
          "execution_count": 3,
          "metadata": {},
          "output_type": "execute_result"
        }
      ],
      "source": [
        "dataset_eng[0]"
      ]
    },
    {
      "cell_type": "markdown",
      "metadata": {
        "id": "jDLtYhGXCmLW"
      },
      "source": [
        "### (Basic) Tokenization"
      ]
    },
    {
      "cell_type": "markdown",
      "metadata": {
        "id": "d0CmMhN0EYat"
      },
      "source": [
        "Tokenisasi adalah proses mengubah teks menjadi serangkaian token. Ada berbagai perspektif terkait apa yang dimaksud dengan token. Salah satu makna yang umum digunakan adalah setiap token merepresentasikan suatu kata tertentu. Namun, bisa juga token merepresentasikan informasi yang lebih granular seperti karakter. Salah satu metode sederhana yang dapat digunakan adalah dengan regular expression. Terdapat metode tokenisasi lain yang bersifat data-driven, di mana ini akan diperkenalkan berikutnya."
      ]
    },
    {
      "cell_type": "code",
      "execution_count": 4,
      "metadata": {
        "id": "liHiKOxWBcfF"
      },
      "outputs": [
        {
          "name": "stdout",
          "output_type": "stream",
          "text": [
            "['the', 'presence', 'of', 'communication', 'amid', 'scientific', 'minds', 'was', 'equally', 'important', 'to', 'the', 'success', 'of', 'the', 'manhattan', 'project', 'as', 'scientific', 'intellect', 'was', 'the', 'only', 'cloud', 'hanging', 'over', 'the', 'impressive', 'achievement', 'of', 'the', 'atomic', 'researchers', 'and', 'engineers', 'is', 'what', 'their', 'success', 'truly', 'meant', 'hundreds', 'of', 'thousands', 'of', 'innocent', 'lives', 'obliterated']\n"
          ]
        }
      ],
      "source": [
        "from nltk.tokenize import RegexpTokenizer\n",
        "\n",
        "TOK_PATTERN = r'\\w+'\n",
        "\n",
        "# instansiasi di luar agar sekali saja\n",
        "tokenizer = RegexpTokenizer(TOK_PATTERN)\n",
        "\n",
        "# sekalian melakukan lowercasing\n",
        "def tokenize_regex(text, tokenizer, lower=True):\n",
        "    result = tokenizer.tokenize(text)\n",
        "    if lower:\n",
        "        result = [x.lower() for x in result]\n",
        "    return result\n",
        "\n",
        "result_tok = tokenize_regex(dataset_eng[0]['text'], tokenizer)\n",
        "print(result_tok)"
      ]
    },
    {
      "cell_type": "markdown",
      "metadata": {
        "id": "CK9EX7r7Fgrs"
      },
      "source": [
        "### Stemming and Lemmatization"
      ]
    },
    {
      "cell_type": "markdown",
      "metadata": {
        "id": "DUTrp0H7FlxJ"
      },
      "source": [
        "Stemming bekerja dengan memotong beberapa bagian dari suatu kata seperti afiks berdasarkan aturan tertentu, tanpa perlu memastikan bahwa kata hasil pemotongan terdapat di kamus atau tidak. Sementara itu, lemmatization serupa dengan stemming, hanya saja semua hasilnya dipastikan ada di kamus (ada dictionary lookup)."
      ]
    },
    {
      "cell_type": "markdown",
      "metadata": {
        "id": "Zy1zPlI-GQWb"
      },
      "source": [
        "![image.png](data:image/png;base64,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)"
      ]
    },
    {
      "cell_type": "markdown",
      "metadata": {
        "id": "dUQcPfgPGSK-"
      },
      "source": [
        "Source: https://www.turing.com/kb/stemming-vs-lemmatization-in-python"
      ]
    },
    {
      "cell_type": "code",
      "execution_count": 5,
      "metadata": {
        "id": "h7EC48JJGWEr"
      },
      "outputs": [
        {
          "name": "stderr",
          "output_type": "stream",
          "text": [
            "[nltk_data] Downloading package wordnet to\n",
            "[nltk_data]     C:\\Users\\USER\\AppData\\Roaming\\nltk_data...\n",
            "[nltk_data]   Package wordnet is already up-to-date!\n"
          ]
        },
        {
          "name": "stdout",
          "output_type": "stream",
          "text": [
            "['the', 'presence', 'of', 'communication', 'amid', 'scientific', 'mind', 'wa', 'equally', 'important', 'to', 'the', 'success', 'of', 'the', 'manhattan', 'project', 'a', 'scientific', 'intellect', 'wa', 'the', 'only', 'cloud', 'hanging', 'over', 'the', 'impressive', 'achievement', 'of', 'the', 'atomic', 'researcher', 'and', 'engineer', 'is', 'what', 'their', 'success', 'truly', 'meant', 'hundred', 'of', 'thousand', 'of', 'innocent', 'life', 'obliterated']\n"
          ]
        }
      ],
      "source": [
        "from nltk.stem import WordNetLemmatizer\n",
        "from typing import List\n",
        "import nltk\n",
        "\n",
        "# terdapat beberapa jenis lemmatizer; kita akan gunakan wordnet saja,\n",
        "# tetapi sebelumnya perlu download resource wordnet dulu\n",
        "nltk.download('wordnet')\n",
        "en_lemmatizer = WordNetLemmatizer()\n",
        "\n",
        "def lemmatize(tokens: List[str], lemmatizer):\n",
        "    return [lemmatizer.lemmatize(token) for token in tokens]\n",
        "\n",
        "result_wn = lemmatize(result_tok, en_lemmatizer)\n",
        "print(result_wn)"
      ]
    },
    {
      "cell_type": "code",
      "execution_count": 6,
      "metadata": {
        "id": "HMrtMKyMH6wY"
      },
      "outputs": [
        {
          "name": "stdout",
          "output_type": "stream",
          "text": [
            "['the', 'presenc', 'of', 'commun', 'amid', 'scientif', 'mind', 'wa', 'equal', 'import', 'to', 'the', 'success', 'of', 'the', 'manhattan', 'project', 'as', 'scientif', 'intellect', 'wa', 'the', 'onli', 'cloud', 'hang', 'over', 'the', 'impress', 'achiev', 'of', 'the', 'atom', 'research', 'and', 'engin', 'is', 'what', 'their', 'success', 'truli', 'meant', 'hundr', 'of', 'thousand', 'of', 'innoc', 'live', 'obliter']\n"
          ]
        }
      ],
      "source": [
        "from nltk.stem import PorterStemmer\n",
        "\n",
        "# terdapat beberapa jenis stemmer juga; kita akan gunakan Porter stemmer saja\n",
        "en_stemmer = PorterStemmer()\n",
        "\n",
        "def stem(tokens: List[str], stemmer):\n",
        "    return [stemmer.stem(token) for token in tokens]\n",
        "\n",
        "result_ps = stem(result_tok, en_stemmer)\n",
        "print(result_ps)"
      ]
    },
    {
      "cell_type": "markdown",
      "metadata": {
        "id": "yynK-Lj5Ii1E"
      },
      "source": [
        "Sekarang, bandingkan hasil sebelum dan sesudah stemming dan lemmatization."
      ]
    },
    {
      "cell_type": "code",
      "execution_count": 7,
      "metadata": {
        "id": "hNeAsYwhIoZu"
      },
      "outputs": [
        {
          "name": "stdout",
          "output_type": "stream",
          "text": [
            "Original: \t['the', 'presence', 'of', 'communication', 'amid', 'scientific', 'minds', 'was', 'equally', 'important', 'to', 'the', 'success', 'of', 'the', 'manhattan', 'project', 'as', 'scientific', 'intellect', 'was', 'the', 'only', 'cloud', 'hanging', 'over', 'the', 'impressive', 'achievement', 'of', 'the', 'atomic', 'researchers', 'and', 'engineers', 'is', 'what', 'their', 'success', 'truly', 'meant', 'hundreds', 'of', 'thousands', 'of', 'innocent', 'lives', 'obliterated']\n",
            "Lemmatization: \t['the', 'presence', 'of', 'communication', 'amid', 'scientific', 'mind', 'wa', 'equally', 'important', 'to', 'the', 'success', 'of', 'the', 'manhattan', 'project', 'a', 'scientific', 'intellect', 'wa', 'the', 'only', 'cloud', 'hanging', 'over', 'the', 'impressive', 'achievement', 'of', 'the', 'atomic', 'researcher', 'and', 'engineer', 'is', 'what', 'their', 'success', 'truly', 'meant', 'hundred', 'of', 'thousand', 'of', 'innocent', 'life', 'obliterated']\n",
            "Stemming: \t['the', 'presenc', 'of', 'commun', 'amid', 'scientif', 'mind', 'wa', 'equal', 'import', 'to', 'the', 'success', 'of', 'the', 'manhattan', 'project', 'as', 'scientif', 'intellect', 'wa', 'the', 'onli', 'cloud', 'hang', 'over', 'the', 'impress', 'achiev', 'of', 'the', 'atom', 'research', 'and', 'engin', 'is', 'what', 'their', 'success', 'truli', 'meant', 'hundr', 'of', 'thousand', 'of', 'innoc', 'live', 'obliter']\n"
          ]
        }
      ],
      "source": [
        "print(f\"Original: \\t{result_tok}\")\n",
        "print(f\"Lemmatization: \\t{result_wn}\")\n",
        "print(f\"Stemming: \\t{result_ps}\")"
      ]
    },
    {
      "cell_type": "markdown",
      "metadata": {
        "id": "55I8pdBdJw9w"
      },
      "source": [
        "### Stopwords Removal"
      ]
    },
    {
      "cell_type": "markdown",
      "metadata": {
        "id": "cmp26XakJ7I6"
      },
      "source": [
        "Stopwords merupakan kata-kata yang umumnya memiliki frekuensi yang sangat tinggi dalam teks namun tidak memberikan informasi yang signifikan. Oleh karena itu, kata-kata tersebut seringkali dihapus\n",
        "agar menyisakan informasi yang \"penting\" saja."
      ]
    },
    {
      "cell_type": "code",
      "execution_count": 8,
      "metadata": {
        "id": "qIZf32wVKAFa"
      },
      "outputs": [
        {
          "name": "stdout",
          "output_type": "stream",
          "text": [
            "['a', 'about', 'above', 'after', 'again', 'against', 'ain', 'all', 'am', 'an', 'and', 'any', 'are', 'aren', \"aren't\", 'as', 'at', 'be', 'because', 'been', 'before', 'being', 'below', 'between', 'both', 'but', 'by', 'can', 'couldn', \"couldn't\", 'd', 'did', 'didn', \"didn't\", 'do', 'does', 'doesn', \"doesn't\", 'doing', 'don', \"don't\", 'down', 'during', 'each', 'few', 'for', 'from', 'further', 'had', 'hadn', \"hadn't\", 'has', 'hasn', \"hasn't\", 'have', 'haven', \"haven't\", 'having', 'he', \"he'd\", \"he'll\", 'her', 'here', 'hers', 'herself', \"he's\", 'him', 'himself', 'his', 'how', 'i', \"i'd\", 'if', \"i'll\", \"i'm\", 'in', 'into', 'is', 'isn', \"isn't\", 'it', \"it'd\", \"it'll\", \"it's\", 'its', 'itself', \"i've\", 'just', 'll', 'm', 'ma', 'me', 'mightn', \"mightn't\", 'more', 'most', 'mustn', \"mustn't\", 'my', 'myself', 'needn', \"needn't\", 'no', 'nor', 'not', 'now', 'o', 'of', 'off', 'on', 'once', 'only', 'or', 'other', 'our', 'ours', 'ourselves', 'out', 'over', 'own', 're', 's', 'same', 'shan', \"shan't\", 'she', \"she'd\", \"she'll\", \"she's\", 'should', 'shouldn', \"shouldn't\", \"should've\", 'so', 'some', 'such', 't', 'than', 'that', \"that'll\", 'the', 'their', 'theirs', 'them', 'themselves', 'then', 'there', 'these', 'they', \"they'd\", \"they'll\", \"they're\", \"they've\", 'this', 'those', 'through', 'to', 'too', 'under', 'until', 'up', 've', 'very', 'was', 'wasn', \"wasn't\", 'we', \"we'd\", \"we'll\", \"we're\", 'were', 'weren', \"weren't\", \"we've\", 'what', 'when', 'where', 'which', 'while', 'who', 'whom', 'why', 'will', 'with', 'won', \"won't\", 'wouldn', \"wouldn't\", 'y', 'you', \"you'd\", \"you'll\", 'your', \"you're\", 'yours', 'yourself', 'yourselves', \"you've\"]\n"
          ]
        },
        {
          "name": "stderr",
          "output_type": "stream",
          "text": [
            "[nltk_data] Downloading package stopwords to\n",
            "[nltk_data]     C:\\Users\\USER\\AppData\\Roaming\\nltk_data...\n",
            "[nltk_data]   Package stopwords is already up-to-date!\n"
          ]
        }
      ],
      "source": [
        "from nltk.corpus import stopwords\n",
        "\n",
        "nltk.download('stopwords')\n",
        "print(stopwords.words('english'))"
      ]
    },
    {
      "cell_type": "code",
      "execution_count": 9,
      "metadata": {
        "id": "oSzij3GPKLG_"
      },
      "outputs": [
        {
          "name": "stdout",
          "output_type": "stream",
          "text": [
            "['presence', 'communication', 'amid', 'scientific', 'minds', 'equally', 'important', 'success', 'manhattan', 'project', 'scientific', 'intellect', 'cloud', 'hanging', 'impressive', 'achievement', 'atomic', 'researchers', 'engineers', 'success', 'truly', 'meant', 'hundreds', 'thousands', 'innocent', 'lives', 'obliterated']\n"
          ]
        }
      ],
      "source": [
        "def remove_stopwords(tokens: List[str], stopwords):\n",
        "    return [token for token in tokens if token not in stopwords]\n",
        "\n",
        "en_stopwords = set(stopwords.words('english'))\n",
        "result_no_stopwords = remove_stopwords(result_tok, en_stopwords)\n",
        "print(result_no_stopwords)"
      ]
    },
    {
      "cell_type": "markdown",
      "metadata": {
        "id": "VgC7gD6ZLDkc"
      },
      "source": [
        "### Pipeline"
      ]
    },
    {
      "cell_type": "markdown",
      "metadata": {
        "id": "paZTcbOxLIAS"
      },
      "source": [
        "Kita dapat menerapkan ini semua ke dalam sebuah pipeline."
      ]
    },
    {
      "cell_type": "code",
      "execution_count": 10,
      "metadata": {
        "id": "wWc9SVVRLwy1"
      },
      "outputs": [
        {
          "name": "stdout",
          "output_type": "stream",
          "text": [
            "['presenc', 'commun', 'amid', 'scientif', 'mind', 'wa', 'equal', 'import', 'success', 'manhattan', 'project', 'scientif', 'intellect', 'wa', 'onli', 'cloud', 'hang', 'impress', 'achiev', 'atom', 'research', 'engin', 'success', 'truli', 'meant', 'hundr', 'thousand', 'innoc', 'life', 'obliter']\n"
          ]
        }
      ],
      "source": [
        "def pre_processing_en(text: str, tokenizer, lemmatizer, stemmer, stopwords):\n",
        "    result_tok = tokenize_regex(text, tokenizer)\n",
        "    result_wn = lemmatize(result_tok, lemmatizer)\n",
        "    result_ps = stem(result_wn, stemmer)\n",
        "    result_no_stopwords = remove_stopwords(result_ps, stopwords)\n",
        "    return result_no_stopwords\n",
        "\n",
        "print(pre_processing_en(dataset_eng[0]['text'], tokenizer, en_lemmatizer, en_stemmer, en_stopwords))"
      ]
    },
    {
      "cell_type": "markdown",
      "metadata": {
        "id": "8vJxii71Ms7L"
      },
      "source": [
        "Silakan Anda lihat kembali pipeline di atas. Lalu, jawablah pertanyaan-pertanyaan berikut ini dan implementasikan pipeline baru dengan versi yang lebih baik menurut Anda."
      ]
    },
    {
      "cell_type": "markdown",
      "metadata": {
        "id": "YX4Cj6DDNC6M"
      },
      "source": [
        "\n",
        "\n",
        "*   Pada pipeline tersebut, lemmatization dan stemming diimplementasikan keduanya. Menurut Anda, apakah ini adalah sebuah practice yang baik? Jelaskan argumen Anda.\n",
        "*   Berdasarkan pertanyaan sebelumnya, jika menurut Anda hanya salah satu yang dapat digunakan dalam satu pipeline tertentu, jelaskan alasan Anda mengatakan demikian. Tentukan pula apa yang akan Anda gunakan, apakah stemming atau lemmatization, serta jelaskan mengapa Anda memilih teknik tersebut. Sementara itu, jika menurut Anda keduanya saling melengkapi dan harus digunakan semuanya, jelaskan argumen Anda. Jelaskan, mana yang lebih baik, apakah stemming atau lemmatization yang duluan dilakukan?\n",
        "*   Perhatikan contoh hasil eksekusi pipeline di atas, untuk stopwords yang diberikan, apakah proses stopwords removal sebaiknya dilakukan terakhir setelah stemming atau lemmatization?\n",
        "*   Dalam bahasa Inggris, dikenal istilah [contractions](https://www.sjsu.edu/writingcenter/docs/handouts/Contractions.pdf), yakni bentuk pendek dari beberapa kata, seperti `you will --> you'll`, `i am --> i'm`, dan sebagainya. Untuk kasus pipeline di atas dengan menggunakan semua tools yang diperkenalkan sebelumnya (hint: lihat stopwords yang digunakan), apakah menurut Anda contractions perlu ditangani? Jika ya, jelaskan jawaban Anda dan sebutkan langkah apa yang akan Anda lakukan untuk menangani contractions tersebut. Jika tidak, cukup jelaskan argumen Anda.\n",
        "\n"
      ]
    },
    {
      "cell_type": "markdown",
      "metadata": {
        "id": "Xmn4V-9CZVxS"
      },
      "source": [
        "> - Menurut saya, penggunaan lemmatization dan stemming sekaligus bukanlah practice yang baik karena keduanya memiliki tujuan yang serupa, yaitu untuk reduksi kata ke bentuk dasar, tetapi menggunakan pendekatan yang berbeda sehingga penggunaan keduanya akan menjadi rendundan. Jika kita melakukan lemmatization kemudian stemming ataupun sebaliknya, hasilnya tidak akan jauh berbeda dengan hanya menggunakan stemming. Misalnya, kata \"communication\" setelah dilakukan lemmatization akan tetap \"communication\" tetapi setelah dilakukan stemming akan menjadi \"commun\". Sementara itu, jika kata \"commun\" dilakukan lemmatization juga akan tetap \"commun\". \n",
        "> - Berdasarkan jawaban sebelumnya, menurut saya lebih baik hanya satu yang digunakan dalam satu pipeline agar tidak redundan. Pada kasus ini, saya akan menggunakan lemmatization agar menghasilkan bentuk dasar yang valid (sesuai kamus) sehingga akurasinya lebih baik dan makna kata tetap terjaga. Meskipun kecepatannya lebih lambat daripada stemming, pada kasus ini tidak terlalu perlu diperhatikan karena datasetnya yang kecil.\n",
        "> - Menurut saya, sebaiknya proses stopwords removal dilakukan terlebih dahulu sebelum lemmatization ataupun stemming. Jika kita melakukan lemmatization atau stemming terlebih dahulu, stopwords yang seharusnya dihapus bisa saja tidak terhapus karena katanya sudah termodifikasi. Misalnya, kata \"was\" yang merupakan stopword jika dilakukan lemmatization akan menjadi \"wa\" sehingga tidak lagi dianggap sebagai stopwords.\n",
        "> - Menurut saya, contractions memang perlu ditangani dalam pipeline pemrosesan teks bahasa inggris. Misalnya, jika \"you will\" dianggap sebagai stopwords karena kata \"you\" dan \"will\" terdapat dalam daftar stopwords, maka seharusnya bentuk contractions-nya juga dianggap sebagai stopwords agar konsisten. Pada kasus ini, untuk menangani contractions dari \"you will\", kita perlu menambahkan \"you\" dan \"ll\" ke daftar stopwords. Untuk kata \"you'll\", pada kasus ini sebenarnya tidak perlu ditambahkan ke daftar stopwords karena tokenization pattern yang kita gunakan adalah `r'\\w+'` sehingga kata yang mengandung `'` pasti akan dipecah menjadi lebih dari satu token."
      ]
    },
    {
      "cell_type": "markdown",
      "metadata": {
        "id": "ERWgUcPHa1EH"
      },
      "source": [
        "Selanjutnya, perbaiki pipeline tersebut sesuai insight yang Anda dapatkan dari pertanyaan-pertanyaan sebelumnya. Silakan modifikasi parameter function jika memang diperlukan."
      ]
    },
    {
      "cell_type": "code",
      "execution_count": 11,
      "metadata": {
        "id": "Z2yxqEJMbEIN"
      },
      "outputs": [
        {
          "name": "stdout",
          "output_type": "stream",
          "text": [
            "['presence', 'communication', 'amid', 'scientific', 'mind', 'equally', 'important', 'success', 'manhattan', 'project', 'scientific', 'intellect', 'cloud', 'hanging', 'impressive', 'achievement', 'atomic', 'researcher', 'engineer', 'success', 'truly', 'meant', 'hundred', 'thousand', 'innocent', 'life', 'obliterated']\n"
          ]
        }
      ],
      "source": [
        "def pre_processing_en(text: str, tokenizer, lemmatizer, stopwords):\n",
        "    result_tok = tokenize_regex(text, tokenizer)\n",
        "    result_no_stopwords = remove_stopwords(result_tok, stopwords)\n",
        "    result_wn = lemmatize(result_no_stopwords, lemmatizer)\n",
        "    return result_wn\n",
        "\n",
        "print(pre_processing_en(dataset_eng[0]['text'], tokenizer, en_lemmatizer, en_stopwords))"
      ]
    },
    {
      "cell_type": "markdown",
      "metadata": {
        "id": "58iOwv01bgyA"
      },
      "source": [
        "Dataset yang kita gunakan merupakan instance dari object Dataset oleh HuggingFace. Kita dapat mentransformasikan dataset tersebut dengan pipeline yang sudah kita definisikan sebelumnya menggunakan method `map()`."
      ]
    },
    {
      "cell_type": "code",
      "execution_count": 12,
      "metadata": {
        "id": "0-xHrL0KbuIB"
      },
      "outputs": [
        {
          "data": {
            "text/plain": [
              "Dataset({\n",
              "    features: ['tokens'],\n",
              "    num_rows: 442091\n",
              "})"
            ]
          },
          "execution_count": 12,
          "metadata": {},
          "output_type": "execute_result"
        }
      ],
      "source": [
        "dataset_eng_preprocessed = dataset_eng.map(\n",
        "    lambda row: {'tokens': pre_processing_en(\n",
        "        row['text'],\n",
        "        tokenizer,\n",
        "        en_lemmatizer,\n",
        "        en_stopwords)\n",
        "    },\n",
        "    remove_columns = ['_id', 'title', 'text'],\n",
        ")\n",
        "dataset_eng_preprocessed"
      ]
    },
    {
      "cell_type": "markdown",
      "metadata": {
        "id": "HI5IZIOMd6eE"
      },
      "source": [
        "### Build Your Own Stopwords Set"
      ]
    },
    {
      "cell_type": "markdown",
      "metadata": {
        "id": "rMGisukVeCcK"
      },
      "source": [
        "Anda akan membangun sendiri himpunan kata stopwords berdasarkan corpus yang diberikan. Definisi stopwords dalam kasus ini adalah top-200 token yang memiliki frekuensi kemunculan terbanyak. Gunakan hasil preprocessing yang telah dilakukan di `dataset_eng_preprocessed`. Output dari section ini adalah sebuah set yang berisi top-200 token dengan frekuensi kemunculan tertinggi."
      ]
    },
    {
      "cell_type": "code",
      "execution_count": 13,
      "metadata": {
        "id": "yNG-4dw8fgp-"
      },
      "outputs": [
        {
          "name": "stderr",
          "output_type": "stream",
          "text": [
            "Map: 100%|██████████| 442091/442091 [00:31<00:00, 13949.10 examples/s]\n"
          ]
        },
        {
          "data": {
            "text/plain": [
              "Dataset({\n",
              "    features: ['tokens'],\n",
              "    num_rows: 442091\n",
              "})"
            ]
          },
          "execution_count": 13,
          "metadata": {},
          "output_type": "execute_result"
        }
      ],
      "source": [
        "from collections import defaultdict\n",
        "\n",
        "# keep track pasangan token dan frekuensinya di sini\n",
        "token_freq = defaultdict(int)\n",
        "\n",
        "# lengkapi fungsi ini untuk menghitung frekuensi tiap token\n",
        "def count_token(tokens_list: List[str]):\n",
        "    for token in tokens_list:\n",
        "        token_freq[token] += 1\n",
        "\n",
        "dataset_eng_preprocessed.map(\n",
        "    lambda row: (count_token(row['tokens'])),\n",
        ")"
      ]
    },
    {
      "cell_type": "code",
      "execution_count": 14,
      "metadata": {
        "id": "TCdgYS8ChyVc"
      },
      "outputs": [
        {
          "name": "stdout",
          "output_type": "stream",
          "text": [
            "Jumlah custom stopwords: 200\n",
            "['year', 'people', 'business', '0', 'c', 'county', 'full', 'found', 'skin', '1', 'life', 'job', 'u', 'mean', 'case', 'start', 'child', '5', 'mile', 'different', 'free', 'end', 'infection', '100', 'thing', 'called', 'top', 'day', 'term', 'person', 'good', '10', 'order', 'com', 'name', 'muscle', 'world', 'work', 'service', 'show', 'one', 'even', 'place', 'care', 'condition', 'often', 'example', 'change', 'salary', 'high', 'property', 'less', 'symptom', 'school', 'click', 'medical', 'take', 'usually', 'account', '3', 'know', 'average', 'country', 'three', 'made', 'known', 'foot', '4', 'information', 'make', 'first', 'water', 'around', 'data', 'answer', '20', 'size', 'set', 'another', 'common', 'city', 'home', '6', 'effect', 'plant', 'area', 'code', 'would', 'state', 'â', 'level', 'health', 'based', 'list', 'many', '30', 'heart', 'help', 'test', 'tax', 'following', 'small', 'get', 'minute', 'american', 'much', 'time', 'using', '000', 'price', 'rate', 'available', 'range', 'go', '50', 'result', 'used', 'long', 'may', 'program', 'however', 'temperature', 'united', 'point', 'per', 'like', 'type', 'last', 'must', 'important', 'cause', 'line', '8', 'new', 'number', 'age', 'product', 'color', 'cost', 'problem', 'company', 'e', '2', 'law', 'process', 'disease', 'english', 'blood', 'side', 'large', 'system', 'cell', 'part', 'body', 'right', 'best', 'well', '15', 'pain', 'week', 'including', 'every', 'period', 'total', 'use', 'food', 'two', 'page', 'see', 'second', 'find', 'pay', 'definition', '9', 'value', 'meaning', 'group', 'file', 'low', '12', '7', 'within', 'old', 'way', 'back', 'also', 'need', 'word', 'include', 'look', 'woman', 'degree', 'come', 'family', 'form', 'amount', 'treatment', 'want', 'month', 'hour']\n"
          ]
        }
      ],
      "source": [
        "import heapq\n",
        "\n",
        "# sort dan berikan set of top-200 token stopwords\n",
        "top_200_tokens = heapq.nlargest(200, token_freq.keys(), key=token_freq.get)\n",
        "custom_stopwords = set(top_200_tokens)\n",
        "print(f\"Jumlah custom stopwords: {len(custom_stopwords)}\")\n",
        "print(list(custom_stopwords))"
      ]
    },
    {
      "cell_type": "markdown",
      "metadata": {
        "id": "3Eqo9gIJiXBF"
      },
      "source": [
        "Berdasarkan implementasi pembuatan himpunan stopwords sebelumnya, jawablah pertanyaan berikut ini.\n",
        "\n",
        "\n",
        "*   Apa perbedaan himpunan stopwords yang dibuat sendiri dan stopwords standar buatan NLTK?\n",
        "*   Lihat kembali pipeline hasil perbaikan Anda sebelumnya (`pre_processing_en`). Misalkan Anda diberikan sebuah corpus lain, di mana penghapusan stopwords dilakukan berdasarkan gabungan dari himpunan stopwords NLTK dan himpunan stopwords yang barusan Anda bangun, apakah perlu ada perubahan dari pipeline yang didefinisikan pada `pre_processing_en`? Jika iya, jelaskan alasan Anda dan berikan urutan pipeline yang baru. Jika tidak, cukup jelaskan alasan Anda.\n",
        "\n"
      ]
    },
    {
      "cell_type": "markdown",
      "metadata": {
        "id": "TsKVopT0k0yb"
      },
      "source": [
        "> - Stopwords NLTK ditentukan secara linguistik yang bersi yang fokus pada kata-kata generic atau kata-kata fungsi/gramatikal seperti preposisi (of, in, on, at, by, with), konjungsi (and, but, or, if, because, than), dan artikel (a, an, the). Sementara itu, stopwords yang dibuat sendiri tadi ditentukan secara statistik berdasarkan frekuensi dalam corpus tertentu, jadi isinya banyak kata-kata yang umum dalam corpus tersebut.\n",
        "> - Jika menggunakan gabungan stopwords dari NLTK dan buatan sendiri, pipeline-nya tidak perlu diubah karena yang perlu diubah hanyalah argumen untuk parameter stopwords saat kita memanggil fungsi pipeline-nya."
      ]
    },
    {
      "cell_type": "markdown",
      "metadata": {
        "id": "9DLglzw0l8Vk"
      },
      "source": [
        "### Indonesian Text Preprocessing Pipeline"
      ]
    },
    {
      "cell_type": "markdown",
      "metadata": {
        "id": "hbo4JKAQl_cS"
      },
      "source": [
        "Pada section ini, perlu didefinisikan pipeline baru untuk melakukan text preprocessing pada teks bahasa Indonesia. Kita akan menggunakan dataset `jakartaresearch/indonews`."
      ]
    },
    {
      "cell_type": "code",
      "execution_count": 15,
      "metadata": {
        "id": "r4FVRDlLmf-3"
      },
      "outputs": [
        {
          "data": {
            "text/plain": [
              "Dataset({\n",
              "    features: ['text'],\n",
              "    num_rows: 6127\n",
              "})"
            ]
          },
          "execution_count": 15,
          "metadata": {},
          "output_type": "execute_result"
        }
      ],
      "source": [
        "dataset_idn = load_dataset(\"jakartaresearch/indonews\", split=\"train\")\n",
        "dataset_idn = dataset_idn.remove_columns(\"label\")\n",
        "dataset_idn"
      ]
    },
    {
      "cell_type": "code",
      "execution_count": 16,
      "metadata": {
        "id": "t98Pq5nsrvu4"
      },
      "outputs": [
        {
          "name": "stdout",
          "output_type": "stream",
          "text": [
            "Liputan6.com, London - Lee Dixon khawatir Arsenal tak bisa merekrut Denis Suarez secara permanen musim panas nanti. Pasalnya sejauh ini, Suarez hanya menjadi cadangan bagi The Gunners.\n",
            "\n",
            "Suarez dipinjam Arsenal dari Barcelona, Januari lalu. The Gunners juga bisa membelinya pada akhir musim nanti jika permainannya memuaskan.\n",
            "\n",
            "Namun sejauh ini Suarez tak menjadi pilihan utama di Arsenal. Manajer Unai Emery baru memberinya kesempatan bermain selama 85 menit.\n",
            "\n",
            "\"Emery mungkin tahu kualitas Suarez. Dia tahu Suarez pemain yang dibutuhkannya,\" kata Dixon seperti dilansir Evening Standard.\n",
            "\n",
            "\"Namun dari sudut pandang Suarez, dia pasti berpikir untuk apa pindah kalau tidak bermain. Jadi mungkin saja dia akan menolak Arsenal,\" katanya menambahkan.\n"
          ]
        }
      ],
      "source": [
        "print(dataset_idn[0]['text'])"
      ]
    },
    {
      "cell_type": "markdown",
      "metadata": {
        "id": "fUlNqRs3ns4R"
      },
      "source": [
        "Silakan gunakan library seperti PySastrawi atau lainnya (silakan diinstal jika memang diperlukan) untuk melakukan preprocessing ini. Pipeline yang diinginkan hanyalah tokenization --> stemming --> stopwords removal. Anda diperbolehkan menggunakan kembali pipeline sebelumnya. Tunjukkan salah satu sampel perbandingan tokens hasil tokenisasi saja dan tokens setelah dilakukan stemming dan stopwords removal (tokens hasil preprocessing)."
      ]
    },
    {
      "cell_type": "code",
      "execution_count": 17,
      "metadata": {
        "id": "w_1ix5_Spjr3"
      },
      "outputs": [
        {
          "name": "stdout",
          "output_type": "stream",
          "text": [
            "['liputan6', 'com', 'london', 'lee', 'dixon', 'khawatir', 'arsenal', 'tak', 'bisa', 'merekrut', 'denis', 'suarez', 'secara', 'permanen', 'musim', 'panas', 'nanti', 'pasalnya', 'sejauh', 'ini', 'suarez', 'hanya', 'menjadi', 'cadangan', 'bagi', 'the', 'gunners', 'suarez', 'dipinjam', 'arsenal', 'dari', 'barcelona', 'januari', 'lalu', 'the', 'gunners', 'juga', 'bisa', 'membelinya', 'pada', 'akhir', 'musim', 'nanti', 'jika', 'permainannya', 'memuaskan', 'namun', 'sejauh', 'ini', 'suarez', 'tak', 'menjadi', 'pilihan', 'utama', 'di', 'arsenal', 'manajer', 'unai', 'emery', 'baru', 'memberinya', 'kesempatan', 'bermain', 'selama', '85', 'menit', 'emery', 'mungkin', 'tahu', 'kualitas', 'suarez', 'dia', 'tahu', 'suarez', 'pemain', 'yang', 'dibutuhkannya', 'kata', 'dixon', 'seperti', 'dilansir', 'evening', 'standard', 'namun', 'dari', 'sudut', 'pandang', 'suarez', 'dia', 'pasti', 'berpikir', 'untuk', 'apa', 'pindah', 'kalau', 'tidak', 'bermain', 'jadi', 'mungkin', 'saja', 'dia', 'akan', 'menolak', 'arsenal', 'katanya', 'menambahkan']\n"
          ]
        }
      ],
      "source": [
        "# TODO\n",
        "# lakukan regex tokenization pada dataset_idn[0]['text']\n",
        "result_tok = tokenize_regex(dataset_idn[0]['text'], tokenizer)\n",
        "print(result_tok)"
      ]
    },
    {
      "cell_type": "code",
      "execution_count": 18,
      "metadata": {
        "id": "1PjBpDkTnffs"
      },
      "outputs": [
        {
          "name": "stdout",
          "output_type": "stream",
          "text": [
            "['liputan6', 'com', 'london', 'lee', 'dixon', 'khawatir', 'arsenal', 'tak', 'bisa', 'rekrut', 'den', 'suarez', 'cara', 'permanen', 'musim', 'panas', 'nanti', 'pasal', 'jauh', 'ini', 'suarez', 'hanya', 'jadi', 'cadang', 'bagi', 'the', 'gunners', 'suarez', 'pinjam', 'arsenal', 'dari', 'barcelona', 'januari', 'lalu', 'the', 'gunners', 'juga', 'bisa', 'bel', 'pada', 'akhir', 'musim', 'nanti', 'jika', 'main', 'muas', 'namun', 'jauh', 'ini', 'suarez', 'tak', 'jadi', 'pilih', 'utama', 'di', 'arsenal', 'manajer', 'unai', 'emery', 'baru', 'beri', 'sempat', 'main', 'lama', '85', 'menit', 'emery', 'mungkin', 'tahu', 'kualitas', 'suarez', 'dia', 'tahu', 'suarez', 'main', 'yang', 'butuh', 'kata', 'dixon', 'seperti', 'lansir', 'evening', 'standard', 'namun', 'dari', 'sudut', 'pandang', 'suarez', 'dia', 'pasti', 'pikir', 'untuk', 'apa', 'pindah', 'kalau', 'tidak', 'main', 'jadi', 'mungkin', 'saja', 'dia', 'akan', 'tolak', 'arsenal', 'kata', 'tambah']\n"
          ]
        }
      ],
      "source": [
        "# TODO\n",
        "# lakukan stemming pada dataset_idn[0]['text']\n",
        "from Sastrawi.Stemmer.StemmerFactory import StemmerFactory\n",
        "stemmer_factory = StemmerFactory()\n",
        "id_stemmer = stemmer_factory.create_stemmer()\n",
        "\n",
        "result_stem = stem(result_tok, id_stemmer)\n",
        "print(result_stem)"
      ]
    },
    {
      "cell_type": "code",
      "execution_count": 19,
      "metadata": {
        "id": "O4aBmEaWtuZY"
      },
      "outputs": [
        {
          "name": "stdout",
          "output_type": "stream",
          "text": [
            "['liputan6', 'com', 'london', 'lee', 'dixon', 'khawatir', 'arsenal', 'merekrut', 'denis', 'suarez', 'permanen', 'musim', 'panas', 'pasalnya', 'suarez', 'cadangan', 'the', 'gunners', 'suarez', 'dipinjam', 'arsenal', 'barcelona', 'januari', 'the', 'gunners', 'membelinya', 'musim', 'permainannya', 'memuaskan', 'suarez', 'pilihan', 'utama', 'arsenal', 'manajer', 'unai', 'emery', 'memberinya', 'kesempatan', 'bermain', '85', 'menit', 'emery', 'kualitas', 'suarez', 'suarez', 'pemain', 'dibutuhkannya', 'dixon', 'dilansir', 'evening', 'standard', 'sudut', 'pandang', 'suarez', 'berpikir', 'pindah', 'bermain', 'menolak', 'arsenal']\n"
          ]
        }
      ],
      "source": [
        "# TODO\n",
        "# lakukan stopwords removal pada dataset_idn[0]['text']\n",
        "from Sastrawi.StopWordRemover.StopWordRemoverFactory import StopWordRemoverFactory\n",
        "stopword_factory = StopWordRemoverFactory()\n",
        "id_stopwords = set(stopword_factory.get_stop_words())\n",
        "\n",
        "result_no_stopwords = remove_stopwords(result_tok, id_stopwords)\n",
        "print(result_no_stopwords)"
      ]
    },
    {
      "cell_type": "code",
      "execution_count": 20,
      "metadata": {
        "id": "VqrvvGQirDHv"
      },
      "outputs": [
        {
          "data": {
            "text/plain": [
              "Dataset({\n",
              "    features: ['tokens'],\n",
              "    num_rows: 6127\n",
              "})"
            ]
          },
          "execution_count": 20,
          "metadata": {},
          "output_type": "execute_result"
        }
      ],
      "source": [
        "# TODO\n",
        "# definisikan pipeline yang mentransformasikan dataset_idn menjadi\n",
        "# hanya terdiri dari kolom `tokens` saja, yang berisi list of tokens\n",
        "# hasil preprocessing, lalu simpan ke variable dataset_idn_preprocessed\n",
        "\n",
        "def pre_processing_idn(text: str, tokenizer, stemmer, stopwords):\n",
        "    result_tok = tokenize_regex(text, tokenizer)\n",
        "    result_stem = stem(result_tok, stemmer)\n",
        "    result_no_stopwords = remove_stopwords(result_stem, stopwords)\n",
        "    return result_no_stopwords\n",
        "\n",
        "dataset_idn_preprocessed = dataset_idn.map(\n",
        "    lambda row: {'tokens': pre_processing_idn(\n",
        "        row['text'],\n",
        "        tokenizer,\n",
        "        id_stemmer,\n",
        "        id_stopwords)\n",
        "    },\n",
        "    remove_columns = ['text'],\n",
        ")\n",
        "dataset_idn_preprocessed"
      ]
    },
    {
      "cell_type": "code",
      "execution_count": 21,
      "metadata": {
        "id": "4BjIiwaar4JE"
      },
      "outputs": [
        {
          "name": "stdout",
          "output_type": "stream",
          "text": [
            "Original: \t['liputan6', 'com', 'london', 'lee', 'dixon', 'khawatir', 'arsenal', 'tak', 'bisa', 'merekrut', 'denis', 'suarez', 'secara', 'permanen', 'musim', 'panas', 'nanti', 'pasalnya', 'sejauh', 'ini', 'suarez', 'hanya', 'menjadi', 'cadangan', 'bagi', 'the', 'gunners', 'suarez', 'dipinjam', 'arsenal', 'dari', 'barcelona', 'januari', 'lalu', 'the', 'gunners', 'juga', 'bisa', 'membelinya', 'pada', 'akhir', 'musim', 'nanti', 'jika', 'permainannya', 'memuaskan', 'namun', 'sejauh', 'ini', 'suarez', 'tak', 'menjadi', 'pilihan', 'utama', 'di', 'arsenal', 'manajer', 'unai', 'emery', 'baru', 'memberinya', 'kesempatan', 'bermain', 'selama', '85', 'menit', 'emery', 'mungkin', 'tahu', 'kualitas', 'suarez', 'dia', 'tahu', 'suarez', 'pemain', 'yang', 'dibutuhkannya', 'kata', 'dixon', 'seperti', 'dilansir', 'evening', 'standard', 'namun', 'dari', 'sudut', 'pandang', 'suarez', 'dia', 'pasti', 'berpikir', 'untuk', 'apa', 'pindah', 'kalau', 'tidak', 'bermain', 'jadi', 'mungkin', 'saja', 'dia', 'akan', 'menolak', 'arsenal', 'katanya', 'menambahkan']\n",
            "Stemming: \t['liputan6', 'com', 'london', 'lee', 'dixon', 'khawatir', 'arsenal', 'tak', 'bisa', 'rekrut', 'den', 'suarez', 'cara', 'permanen', 'musim', 'panas', 'nanti', 'pasal', 'jauh', 'ini', 'suarez', 'hanya', 'jadi', 'cadang', 'bagi', 'the', 'gunners', 'suarez', 'pinjam', 'arsenal', 'dari', 'barcelona', 'januari', 'lalu', 'the', 'gunners', 'juga', 'bisa', 'bel', 'pada', 'akhir', 'musim', 'nanti', 'jika', 'main', 'muas', 'namun', 'jauh', 'ini', 'suarez', 'tak', 'jadi', 'pilih', 'utama', 'di', 'arsenal', 'manajer', 'unai', 'emery', 'baru', 'beri', 'sempat', 'main', 'lama', '85', 'menit', 'emery', 'mungkin', 'tahu', 'kualitas', 'suarez', 'dia', 'tahu', 'suarez', 'main', 'yang', 'butuh', 'kata', 'dixon', 'seperti', 'lansir', 'evening', 'standard', 'namun', 'dari', 'sudut', 'pandang', 'suarez', 'dia', 'pasti', 'pikir', 'untuk', 'apa', 'pindah', 'kalau', 'tidak', 'main', 'jadi', 'mungkin', 'saja', 'dia', 'akan', 'tolak', 'arsenal', 'kata', 'tambah']\n",
            "No stopwords: \t['liputan6', 'com', 'london', 'lee', 'dixon', 'khawatir', 'arsenal', 'merekrut', 'denis', 'suarez', 'permanen', 'musim', 'panas', 'pasalnya', 'suarez', 'cadangan', 'the', 'gunners', 'suarez', 'dipinjam', 'arsenal', 'barcelona', 'januari', 'the', 'gunners', 'membelinya', 'musim', 'permainannya', 'memuaskan', 'suarez', 'pilihan', 'utama', 'arsenal', 'manajer', 'unai', 'emery', 'memberinya', 'kesempatan', 'bermain', '85', 'menit', 'emery', 'kualitas', 'suarez', 'suarez', 'pemain', 'dibutuhkannya', 'dixon', 'dilansir', 'evening', 'standard', 'sudut', 'pandang', 'suarez', 'berpikir', 'pindah', 'bermain', 'menolak', 'arsenal']\n"
          ]
        }
      ],
      "source": [
        "# TODO\n",
        "# bandingkan hasil regex tokenization, stemming, stopwords removal\n",
        "print(f\"Original: \\t{result_tok}\")\n",
        "print(f\"Stemming: \\t{result_stem}\")\n",
        "print(f\"No stopwords: \\t{result_no_stopwords}\")"
      ]
    },
    {
      "cell_type": "markdown",
      "metadata": {
        "id": "OU5uPljMaHgU"
      },
      "source": [
        "### Stemming and Lemmatization Across Languages"
      ]
    },
    {
      "cell_type": "markdown",
      "metadata": {
        "id": "BFfCZ6zPaNfv"
      },
      "source": [
        "Disini, kita akan menjelajahi berbagai alat pemrosesan teks untuk berbagai bahasa:\n",
        "- Bahasa Inggris: Menggunakan NLTK\n",
        "- Bahasa Indonesia: Menggunakan Sastrawi\n",
        "- Bahasa Mandarin: Menggunakan Jieba\n",
        "\n",
        "Kita akan membandingkan hasil stemming dan lematisasi di antara bahasa-bahasa ini."
      ]
    },
    {
      "cell_type": "code",
      "execution_count": 22,
      "metadata": {
        "id": "kDfhJcSaa01G"
      },
      "outputs": [
        {
          "name": "stdout",
          "output_type": "stream",
          "text": [
            "English Processing:\n",
            "Original: \t['the', 'cats', 'are', 'running', 'and', 'jumping', 'through', 'the', 'gardens', 'they', 'were', 'playing', 'earlier']\n",
            "Lemmatized: \t['the', 'cat', 'are', 'running', 'and', 'jumping', 'through', 'the', 'garden', 'they', 'were', 'playing', 'earlier']\n",
            "Stemmed: \t['the', 'cat', 'are', 'run', 'and', 'jump', 'through', 'the', 'garden', 'they', 'were', 'play', 'earlier']\n",
            "\n"
          ]
        }
      ],
      "source": [
        "# English\n",
        "\n",
        "en_text = \"The cats are running and jumping through the gardens. They were playing earlier.\"\n",
        "\n",
        "en_tokens = tokenize_regex(en_text, tokenizer)\n",
        "en_lemmatized = lemmatize(en_tokens, en_lemmatizer)\n",
        "en_stemmed = stem(en_tokens, en_stemmer)\n",
        "\n",
        "print(\"English Processing:\")\n",
        "print(f\"Original: \\t{en_tokens}\")\n",
        "print(f\"Lemmatized: \\t{en_lemmatized}\")\n",
        "print(f\"Stemmed: \\t{en_stemmed}\\n\")"
      ]
    },
    {
      "cell_type": "code",
      "execution_count": 23,
      "metadata": {
        "id": "k7Rxfg5jbiWk"
      },
      "outputs": [
        {
          "name": "stdout",
          "output_type": "stream",
          "text": [
            "Indonesian Processing:\n",
            "Original: \t['kucing', 'kucing', 'itu', 'sedang', 'berlari', 'dan', 'melompat', 'di', 'taman', 'mereka', 'bermain', 'sejak', 'tadi']\n",
            "Stemmed: \t['kucing', 'kucing', 'itu', 'sedang', 'lari', 'dan', 'lompat', 'di', 'taman', 'mereka', 'main', 'sejak', 'tadi']\n",
            "\n"
          ]
        }
      ],
      "source": [
        "# Indonesian\n",
        "\n",
        "id_text = \"Kucing-kucing itu sedang berlari dan melompat di taman. Mereka bermain sejak tadi.\"\n",
        "\n",
        "id_tokens = tokenize_regex(id_text, tokenizer)\n",
        "id_stemmed = stem(id_tokens, id_stemmer)\n",
        "\n",
        "print(\"Indonesian Processing:\")\n",
        "print(f\"Original: \\t{id_tokens}\")\n",
        "print(f\"Stemmed: \\t{id_stemmed}\\n\")\n"
      ]
    },
    {
      "cell_type": "markdown",
      "metadata": {
        "id": "1HOybtj6n2zD"
      },
      "source": [
        "Dalam bahasa Mandarin, karena teks bahasa Mandarin tidak memiliki spasi eksplisit untuk memisahkan kata-kata seperti bahasa Inggris atau Indoesia dilakukan dengan membagi rangkaian karakter bahasa Mandarin yang terus menerus menjadi kata-kata yang bermakna. Tantangan utama berasal dari ambiguitas batas kata, di mana segmentasi yang berbeda dapat menyebabkan interpretasi yang berbeda. Pendekatan tradisional mencakup metode berbasis aturan seperti algoritma Maximum Matching algorithm, yang mengulang-ulang teks untuk menemukan kata-kata yang paling cocok dengan kamus, dan metode statistik yang memanfaatkan distribusi frekuensi dan model probabilitas untuk menentukan segmentasi yang paling mungkin.\n",
        "\n",
        "Juga terdapat teknik yang lain menggabungkan analisis sintaksis dan semantik, serta model Machine Leanring. Untuk lebih lanjutnya, jika anda penasaran, anda bisa melihat paper [ini](https://www.isca-archive.org/interspeech_2004/badino04_interspeech.pdf)\n",
        "\n",
        "\n",
        "Untungnya, kami punya Jieba, sebuah library Python untuk segmentasi kata dalam bahasa Mandarin yang menggunakan gabungan teknik Dictionary-Based Matching, statistik, dan Hidden Markov Model."
      ]
    },
    {
      "cell_type": "code",
      "execution_count": 24,
      "metadata": {
        "id": "YnohzUEpbrf-"
      },
      "outputs": [
        {
          "name": "stderr",
          "output_type": "stream",
          "text": [
            "Building prefix dict from the default dictionary ...\n",
            "Loading model from cache C:\\Users\\USER\\AppData\\Local\\Temp\\jieba.cache\n",
            "Loading model cost 0.814 seconds.\n",
            "Prefix dict has been built successfully.\n"
          ]
        },
        {
          "name": "stdout",
          "output_type": "stream",
          "text": [
            "Mandarin Processing:\n",
            "Original text: \t猫们正在花园里跑来跑去。它们刚才在玩耍。\n",
            "Tokenized: \t['猫们', '正在', '花园里', '跑来跑去', '。', '它们', '刚才', '在', '玩耍', '。']\n",
            "\n"
          ]
        }
      ],
      "source": [
        "# Mandarin\n",
        "import jieba\n",
        "\n",
        "zh_text = \"猫们正在花园里跑来跑去。它们刚才在玩耍。\"\n",
        "\n",
        "def tokenize_zh(text):\n",
        "\t# TODO gunakan jieba untuk mengtokenize zh_text\n",
        "    return list(jieba.cut(text))\n",
        "\n",
        "# Process Mandarin\n",
        "zh_tokens = tokenize_zh(zh_text)\n",
        "\n",
        "print(\"Mandarin Processing:\")\n",
        "print(f\"Original text: \\t{zh_text}\")\n",
        "print(f\"Tokenized: \\t{zh_tokens}\\n\")\n"
      ]
    },
    {
      "cell_type": "markdown",
      "metadata": {
        "id": "YSfbx-m5b8SJ"
      },
      "source": [
        "Berdasarkan dari hasil diatas jawablah beberapa pertanyaan dibawah ini.\n",
        "\n",
        "1. Bandingkan hasil stemming vs lemmatization dalam bahasa Inggris. Apa perbedaan utama yang Anda amati?\n",
        "\n",
        "2. Apakah stemming saja cukup digunakan untuk bahasa Indonesia? Apa yang membedakannya dengan bahasas Inggris?\n",
        "\n",
        "3. Untuk bahasa Mandarin:\n",
        "- Mengapa kita biasanya tidak menggunakan stemming atau lemmatization?\n",
        "- Apa saja tantangan dalam memproses teks bahasa Mandarin?"
      ]
    },
    {
      "cell_type": "markdown",
      "metadata": {
        "id": "p8Zu8s1ud8CV"
      },
      "source": [
        "> 1. Dari hasil di atas, perbedaan utama antara stemming dan lemmatization dalam bahasa Inggris di kasus ini adalah lemmatization hanya mengubah kata plural menjadi menjadi kata singular (contohnya \"cats\" jadi \"cat\"), sementara stemming lebih agresif dengan menghilangkan \"-ing\" untuk membentuk kata dasar (contohnya \"running\" jadi \"run\").\n",
        "\n",
        "> 2. Menurut saya, stemming saja cukup untuk bahasa Indonesia karena bahasa Indonesia memiliki sistem morfologi yang lebih teratur dan konsisten dibanding bahasa Inggris karena imbuhan dalam bahasa Indonesia (awalan, sisipan, akhiran) mengikuti pola yang relatif teratur. Selain itu, bahasa Indonesia juga tidak memiliki perubahan bentuk kata yang tidak teratur (irregular forms) sebanyak bahasa Inggris dan juga tidak memerlukan penanganan khusus untuk plural karena dalam bahasa Indonesia bentuk plural ditandai dengan pengulangan kata (contohnya \"Kucing-kucing\").\n",
        "\n",
        "> 3. Untuk bahasa Mandarin, kita biasanya tidak menggunakan stemming atau lemmatization karena bahasa Mandarin tidak menggunakan imbuhan untuk menandai perubahan gramatikal serta karakternya tidak mengalami perubahan bentuk untuk menunjukkan waktu, jumlah, atau aspek gramatikal lainnya. Namun, tantangan dalam memproses teks bahasa Mandarin di antaranya: \n",
        "> - tidak adanya pemisah kata (spasi) yang jelas sehingga untuk tokenisasinya menjadi lebih rumit\n",
        "> - banyak karakter yang dapat membentuk kata berbeda tergantung konteksnya sehingga menimbulkan ambiguitas, jadi perbedaan cara segmentasi kalimat dapat membentuk makna yang berbeda. Misalnya 我喜欢新西兰花 bisa disegmentasi menjadi 我（I）喜欢（like）新西兰（New Zeland）花（flowers）ataupun 我（I）喜欢（like）新（fresh）西兰花（broccoli）dan keduanya merupakan kalimat yang masuk akal."
      ]
    },
    {
      "cell_type": "markdown",
      "metadata": {
        "id": "HDeB_iCncVH1"
      },
      "source": [
        "## Byte Pair Encoding (BPE) Tokenizer"
      ]
    },
    {
      "cell_type": "markdown",
      "metadata": {
        "id": "hReL8dTH5QlZ"
      },
      "source": [
        "Pada bagian ini, Anda akan belajar mengimplementasikan salah satu data-driven tokenizer yang terkenal, yakni BPE. BPE digunakan dalam pre-training model GPT yang dikembangkan oleh OpenAI. Kita akan gunakan dataset bahasa Indonesia sebelumnya sebagai corpus.\n",
        "\n"
      ]
    },
    {
      "cell_type": "markdown",
      "metadata": {
        "id": "8QaA8Pvn5iSJ"
      },
      "source": [
        "Corpus berisi kumpulan dokumen, sedangkan BPE membutuhkan semuanya menjadi satuan kata-kata. Oleh karena itu, perlu ada tahap pre-tokenization. Umumnya, tahap ini meliputi pemecahan sentence menjadi list of words dan lowercasing. Silakan gunakan method `tokenize_regex` sebelumnya."
      ]
    },
    {
      "cell_type": "code",
      "execution_count": 25,
      "metadata": {
        "id": "Uh_3I8oFtQMc"
      },
      "outputs": [
        {
          "data": {
            "text/plain": [
              "6127"
            ]
          },
          "execution_count": 25,
          "metadata": {},
          "output_type": "execute_result"
        }
      ],
      "source": [
        "corpus = dataset_idn[\"text\"]\n",
        "len(corpus)"
      ]
    },
    {
      "cell_type": "code",
      "execution_count": 26,
      "metadata": {
        "id": "IQitbLRxfFP1"
      },
      "outputs": [
        {
          "name": "stdout",
          "output_type": "stream",
          "text": [
            "['liputan6', 'com', 'london', 'lee', 'dixon', 'khawatir', 'arsenal', 'tak', 'bisa', 'merekrut', 'denis', 'suarez', 'secara', 'permanen', 'musim', 'panas', 'nanti', 'pasalnya', 'sejauh', 'ini', 'suarez', 'hanya', 'menjadi', 'cadangan', 'bagi', 'the', 'gunners', 'suarez', 'dipinjam', 'arsenal', 'dari', 'barcelona', 'januari', 'lalu', 'the', 'gunners', 'juga', 'bisa', 'membelinya', 'pada', 'akhir', 'musim', 'nanti', 'jika', 'permainannya', 'memuaskan', 'namun', 'sejauh', 'ini', 'suarez', 'tak', 'menjadi', 'pilihan', 'utama', 'di', 'arsenal', 'manajer', 'unai', 'emery', 'baru', 'memberinya', 'kesempatan', 'bermain', 'selama', '85', 'menit', 'emery', 'mungkin', 'tahu', 'kualitas', 'suarez', 'dia', 'tahu', 'suarez', 'pemain', 'yang', 'dibutuhkannya', 'kata', 'dixon', 'seperti', 'dilansir', 'evening', 'standard', 'namun', 'dari', 'sudut', 'pandang', 'suarez', 'dia', 'pasti', 'berpikir', 'untuk', 'apa', 'pindah', 'kalau', 'tidak', 'bermain', 'jadi', 'mungkin', 'saja', 'dia', 'akan', 'menolak', 'arsenal', 'katanya', 'menambahkan']\n"
          ]
        }
      ],
      "source": [
        "print(tokenize_regex(corpus[0], tokenizer))"
      ]
    },
    {
      "cell_type": "code",
      "execution_count": 27,
      "metadata": {
        "id": "jKaf3xZJkOdx"
      },
      "outputs": [],
      "source": [
        "from typing import List\n",
        "from collections import defaultdict\n",
        "from tqdm import tqdm\n",
        "\n",
        "class BPETokenizer:\n",
        "    def __init__(self, vocab_size: int):\n",
        "        self.vocab_size = vocab_size        # berisi ukuran vocab yang diinginkan\n",
        "        self.merges = {}                    # berisi rule untuk merge, seperti {(\"l\", \"o\"): \"lo\"}\n",
        "        self.vocab = set()                  # berisi daftar vocab\n",
        "        self.splits = {}                    # berisi split untuk setiap kalimat, seperti {\"halo\": [\"h\", \"a\", \"l\", \"o\"]}\n",
        "        self.word_freqs = defaultdict(int)  # berisi mapping kata dan frekuensi yang ada di corpus\n",
        "        self.pair_freqs = defaultdict(int)  # berisi mapping pair of letters dan frekuensinya yang terbentuk\n",
        "\n",
        "    def __populate_initial(self, corpus: List[str]):\n",
        "        # isi self.word_freqs dan self.vocab\n",
        "        for text in corpus:\n",
        "            pretokenized = tokenize_regex(text, tokenizer)\n",
        "            for word in pretokenized:\n",
        "                self.word_freqs[word] += 1\n",
        "                self.vocab.update(word)\n",
        "\n",
        "        # isi self.splits\n",
        "        for word in self.word_freqs.keys():\n",
        "            self.splits[word] = [c for c in word]\n",
        "\n",
        "    def __compute_pair_freqs(self):\n",
        "        # isi/update self.pair_freqs\n",
        "        # gunakan informasi dari self.splits untuk iterasi semua kemungkinan\n",
        "        # pasangan dari tiap kata\n",
        "        # tidak perlu return apa-apa\n",
        "        # contoh: jika punya \"halo\" dengan split [\"ha\", \"l\", \"o\"] dengan frekuensi 3 maka\n",
        "        #         lakukan iterasi di listnya sambil gabungkan tokennya, i.e., menjadi\n",
        "        #         self.pair_freqs = {(\"ha\", \"l\"): 3, (\"l\", \"o\"): 3}\n",
        "        self.pair_freqs.clear()\n",
        "        for word, freq in self.word_freqs.items():\n",
        "            split = self.splits[word]\n",
        "            for i in range(len(split) - 1):\n",
        "                pair = (split[i], split[i + 1])\n",
        "                self.pair_freqs[pair] += freq\n",
        "\n",
        "    def __find_best_pair(self):\n",
        "        # tentukan pair mana dari self.pair_freqs yang memiliki\n",
        "        # frekuensi tertinggi, lalu kembalikan tuple of best pair dan maximum frequency-nya\n",
        "        # ingat, ini bisa diselesaikan dalam O(n) tanpa sorting\n",
        "        best_pair, max_freq = None, 0\n",
        "        for pair, freq in self.pair_freqs.items():\n",
        "            if freq > max_freq:\n",
        "                best_pair = pair\n",
        "                max_freq = freq\n",
        "        return best_pair, max_freq\n",
        "\n",
        "    def __merge_pair(self, a, b):\n",
        "        # gabungkan dua token yang ada di vocab: a dan b\n",
        "        # jangan lupa untuk meng-update hasil split dari kata-kata yang ada di\n",
        "        # self.splits dengan hasil split terbaru\n",
        "        # tidak perlu return apa-apa\n",
        "        # contoh: jika sebelumnya punya self.splits = {\"alo\": [\"a\", \"l\", \"o\"]}\n",
        "        #         lalu ingin merge \"a\" dan \"l\", maka update self.splits sehingga\n",
        "        #         menjadi self.splits = {\"alo\": [\"al\", \"o\"]}\n",
        "        for word, split in self.splits.items():\n",
        "            new_split = []\n",
        "            i = 0\n",
        "            while i < len(split):\n",
        "                if i < len(split) - 1 and split[i] == a and split[i + 1] == b:\n",
        "                    new_split.append(a + b)\n",
        "                    i += 2\n",
        "                else:\n",
        "                    new_split.append(split[i])\n",
        "                    i += 1\n",
        "            self.splits[word] = new_split\n",
        "\n",
        "    def train(self, corpus: List[str]):\n",
        "        # lakukan training untuk corpus yang berisi list of sentences\n",
        "        # untuk tiap merging, jangan lupa update self.merges dan self.vocab\n",
        "        # tidak perlu return apa-apa\n",
        "        # tunjukkan (print saja) sudah berapa jumlah vocab untuk tiap iterasi (untuk keep track progress)\n",
        "        self.__populate_initial(corpus)\n",
        "\n",
        "        with tqdm(total=self.vocab_size - len(self.vocab), desc=\"Training BPE\") as pbar:\n",
        "            while len(self.vocab) < self.vocab_size:\n",
        "                self.__compute_pair_freqs()\n",
        "                best_pair, freq = self.__find_best_pair()\n",
        "                \n",
        "                if best_pair is None or freq == 0:\n",
        "                    break\n",
        "                    \n",
        "                a, b = best_pair\n",
        "                self.merges[best_pair] = a + b\n",
        "                self.vocab.add(a + b)\n",
        "                self.__merge_pair(a, b)\n",
        "                \n",
        "                pbar.update(1)\n",
        "                pbar.set_postfix(vocab_size=len(self.vocab))\n",
        "\n",
        "    def tokenize(self, text: str):\n",
        "        # TODO\n",
        "        # lakukan tokenisasi untuk kalimat yang diberikan\n",
        "        # hint: algoritmanya mirip seperti untuk merging\n",
        "        # jika setelah tokenization ada token yang tidak terdapat di vocabulary\n",
        "        # replace dengan special token <UNK>\n",
        "        # kembalikan list of tokens hasil tokenization\n",
        "        pretokenized = tokenize_regex(text, tokenizer)\n",
        "        result = []\n",
        "        \n",
        "        for word in pretokenized:\n",
        "            split = [c for c in word]\n",
        "            for (a, b), merged in self.merges.items():\n",
        "                i = 0\n",
        "                while i < len(split) - 1:\n",
        "                    if split[i] == a and split[i + 1] == b:\n",
        "                        split[i] = merged\n",
        "                        del split[i + 1]\n",
        "                    else:\n",
        "                        i += 1\n",
        "            \n",
        "            for i, token in enumerate(split):\n",
        "                if token not in self.vocab:\n",
        "                    split[i] = \"<UNK>\"\n",
        "            \n",
        "            result.extend(split)\n",
        "            \n",
        "        return result"
      ]
    },
    {
      "cell_type": "markdown",
      "metadata": {
        "id": "nq-MsiQN8RBU"
      },
      "source": [
        "Kita akan melakukan training dengan corpus tersebut, dengan ukuran vocab 300."
      ]
    },
    {
      "cell_type": "code",
      "execution_count": 28,
      "metadata": {
        "id": "axBYmLVn8gJB"
      },
      "outputs": [
        {
          "name": "stderr",
          "output_type": "stream",
          "text": [
            "Training BPE: 100%|██████████| 251/251 [00:27<00:00,  9.07it/s, vocab_size=300]\n"
          ]
        }
      ],
      "source": [
        "bpe = BPETokenizer(300)\n",
        "bpe.train(corpus)"
      ]
    },
    {
      "cell_type": "markdown",
      "metadata": {
        "id": "Oin17U3vCSBQ"
      },
      "source": [
        "Selanjutnya, kita akan membandingkan regex-based tokenizer dan BPE (cukup gunakan BPE sebelumnya yang sudah di-train dengan ukuran vocab 300 saja). Bandingkan ukuran vocab ketika menggunakan tokenisasi regex dan BPE."
      ]
    },
    {
      "cell_type": "code",
      "execution_count": 29,
      "metadata": {
        "id": "W9IDpZkBCsQI"
      },
      "outputs": [
        {
          "name": "stdout",
          "output_type": "stream",
          "text": [
            "Vocab size regex: \t37939\n",
            "Vocab size BPE: \t300\n"
          ]
        }
      ],
      "source": [
        "print(f\"Vocab size regex: \\t{len(bpe.splits)}\")\n",
        "print(f\"Vocab size BPE: \\t{len(bpe.vocab)}\")"
      ]
    },
    {
      "cell_type": "markdown",
      "metadata": {
        "id": "CuO3MbtqFSB8"
      },
      "source": [
        "Lalu, tokenize kalimat-kalimat yang berada pada list `test_docs` berikut."
      ]
    },
    {
      "cell_type": "code",
      "execution_count": 30,
      "metadata": {
        "id": "xHBLyjud-hgw"
      },
      "outputs": [
        {
          "name": "stdout",
          "output_type": "stream",
          "text": [
            "Halo, nama saya Andi dan saya sedang belajar Information Retrieval\n",
            "BPE: \t['h', 'al', 'o', 'n', 'ama', 'saya', 'an', 'di', 'dan', 'saya', 'se', 'dang', 'bel', 'a', 'jar', 'in', 'f', 'or', 'm', 'ati', 'on', 'r', 'et', 'ri', 'e', 'v', 'al']\n",
            "Regex: \t['halo', 'nama', 'saya', 'andi', 'dan', 'saya', 'sedang', 'belajar', 'information', '<UNK>']\n",
            "\n",
            "Erling Braut Håland adalah seorang pemain sepakbola profesional berkebangsaan Norwegia\n",
            "BPE: \t['er', 'l', 'ing', 'b', 'ra', 'ut', 'h', '<UNK>', 'lan', 'd', 'a', 'dal', 'ah', 'se', 'or', 'ang', 'pem', 'ain', 'se', 'p', 'ak', 'bo', 'la', 'pro', 'f', 'esi', 'on', 'al', 'ber', 'ke', 'bang', 'sa', 'an', 'n', 'or', 'w', 'e', 'gi', 'a']\n",
            "Regex: \t['<UNK>', '<UNK>', '<UNK>', 'adalah', 'seorang', 'pemain', 'sepakbola', 'profesional', 'berkebangsaan', 'norwegia']\n",
            "\n",
            "Wojciech Tomasz Szczęsny adalah seorang kiper yang bermain di tim FC Barcelona\n",
            "BPE: \t['w', 'o', 'j', 'c', 'i', 'e', 'ch', 't', 'om', 'as', 'z', 's', 'z', 'c', 'z', '<UNK>', 's', 'n', 'y', 'a', 'dal', 'ah', 'se', 'or', 'ang', 'ki', 'per', 'yang', 'ber', 'ma', 'in', 'di', 'tim', 'f', 'c', 'bar', 'c', 'el', 'on', 'a']\n",
            "Regex: \t['wojciech', '<UNK>', '<UNK>', 'adalah', 'seorang', 'kiper', 'yang', 'bermain', 'di', 'tim', 'fc', 'barcelona']\n",
            "\n",
            "Di kejauhan, tampak seorang petani renta tengah mencangkul tanah yang gembur di lereng gunung seraya menatap cakrawala nan sendu, sementara angin semilir membawa aroma petrikor yang menyelinap di antara rimbunnya semak belukar\n",
            "BPE: \t['di', 'ke', 'ja', 'u', 'han', 't', 'am', 'p', 'ak', 'se', 'or', 'ang', 'pe', 'tan', 'i', 'r', 'en', 'ta', 't', 'eng', 'ah', 'menc', 'ang', 'ku', 'l', 'tan', 'ah', 'yang', 'g', 'em', 'b', 'ur', 'di', 'l', 'er', 'eng', 'gun', 'ung', 'ser', 'a', 'ya', 'men', 'ata', 'p', 'c', 'ak', 'ra', 'w', 'ala', 'n', 'an', 'sen', 'du', 'se', 'men', 't', 'ara', 'ang', 'in', 'se', 'mi', 'li', 'r', 'mem', 'ba', 'wa', 'ar', 'om', 'a', 'p', 'et', 'ri', 'k', 'or', 'yang', 'meny', 'el', 'in', 'ap', 'di', 'ant', 'ara', 'ri', 'm', 'b', 'un', 'nya', 'se', 'm', 'ak', 'bel', 'u', 'kar']\n",
            "Regex: \t['di', 'kejauhan', 'tampak', 'seorang', 'petani', 'renta', 'tengah', 'mencangkul', 'tanah', 'yang', '<UNK>', 'di', 'lereng', 'gunung', 'seraya', 'menatap', 'cakrawala', 'nan', 'sendu', 'sementara', 'angin', '<UNK>', 'membawa', 'aroma', '<UNK>', 'yang', '<UNK>', 'di', 'antara', '<UNK>', 'semak', '<UNK>']\n",
            "\n"
          ]
        }
      ],
      "source": [
        "test_docs = [\n",
        "    \"Halo, nama saya Andi dan saya sedang belajar Information Retrieval\",\n",
        "    \"Erling Braut Håland adalah seorang pemain sepakbola profesional berkebangsaan Norwegia\",\n",
        "    \"Wojciech Tomasz Szczęsny adalah seorang kiper yang bermain di tim FC Barcelona\",\n",
        "    \"Di kejauhan, tampak seorang petani renta tengah mencangkul tanah yang gembur di lereng gunung seraya menatap cakrawala nan sendu, sementara angin semilir membawa aroma petrikor yang menyelinap di antara rimbunnya semak belukar\"\n",
        "]\n",
        "\n",
        "def tokenize_with_unk(tokens, vocab):\n",
        "    return [token if token in vocab else \"<UNK>\" for token in tokens]\n",
        "\n",
        "for doc in test_docs:\n",
        "    print(doc)\n",
        "    print(f\"BPE: \\t{bpe.tokenize(doc)}\")\n",
        "    print(f\"Regex: \\t{tokenize_with_unk(tokenize_regex(doc, tokenizer), bpe.splits)}\")\n",
        "    print()"
      ]
    },
    {
      "cell_type": "markdown",
      "metadata": {
        "id": "eQ6vU2GhFkzA"
      },
      "source": [
        "Berdasarkan kedua karakteristik di atas, jelaskan keunggulan menggunakan BPE jika dibandingkan dengan regex-based tokenizer."
      ]
    },
    {
      "cell_type": "markdown",
      "metadata": {
        "id": "sIJ49FAOF1st"
      },
      "source": [
        "> Berdasarkan hasil perbandingan, keunggulan tokenizer BPE dibandingkan regex-based tokenizer terlihat jelas pada efisiensi kosakata yang jauh lebih baik, pada kasus ini vocab size BPE hanya 300 dibandingkan 37.939 pada metode regex. BPE juga menunjukkan kemampuan superior dalam menangani kata-kata yang tidak ada dalam kosakata (OOV) dengan memecahnya menjadi unit-unit subkata yang bermakna, bukan hanya menggantikannya dengan token \\<UNK\\> secara keseluruhan seperti yang dilakukan regex. Ini terlihat pada contoh nama-nama asing seperti \"Håland\" dan \"Szczęsny\", di mana BPE masih mampu merepresentasikan sebagian besar komponen kata tersebut. Selain itu, BPE secara alami menangkap morfem umum dalam bahasa Indonesia seperti \"ber-\", \"men-\", dan \"-nya\", sehingga memungkinkan model untuk memahami hubungan antara kata-kata yang berbagi komponen, adaptif terhadap statistik korpus, dan bekerja secara efektif tanpa memerlukan aturan khusus bahasa, menjadikannya solusi yang lebih unggul untuk pemrosesan bahasa alami."
      ]
    },
    {
      "cell_type": "markdown",
      "metadata": {
        "id": "jhRzRxBRFp7m"
      },
      "source": [
        "## WordPiece Tokenizer"
      ]
    },
    {
      "cell_type": "markdown",
      "metadata": {
        "id": "5eCH3f59z37f"
      },
      "source": [
        "Selanjutnya, Anda akan belajar WordPiece. WP digunakan dalam model seperti BERT dan model lain buatan Google. Sampai sekarang masih belum ada yang tau pasti bagaimana implementasi tokenizer ini karena sifatnya yang proprietary."
      ]
    },
    {
      "cell_type": "code",
      "execution_count": 31,
      "metadata": {
        "id": "k30x_aCsFs8D"
      },
      "outputs": [],
      "source": [
        "from typing import List, Dict, Tuple\n",
        "from collections import defaultdict\n",
        "import math\n",
        "\n",
        "class WordPieceTokenizer:\n",
        "    def __init__(self, vocab_size: int, continuing_subword_prefix: str = \"##\"):\n",
        "        self.vocab_size = vocab_size                                 # berisi ukuran vocab yang diinginkan\n",
        "        self.continuing_subword_prefix = continuing_subword_prefix   # prefix untuk subword (biasanya \"##\")\n",
        "        self.vocab = [\"[PAD]\", \"[UNK]\", \"[CLS]\", \"[SEP]\", \"[MASK]\"]  # vocab awal dengan token spesial\n",
        "        self.splits = {}                                             # berisi split untuk setiap kata\n",
        "        self.word_freqs = defaultdict(int)                           # berisi mapping kata dan frekuensi di corpus\n",
        "\n",
        "    def __create_initial_alphabet(self):\n",
        "        # membuat alphabet awal dari semua karakter di corpus\n",
        "        # karakter pertama disimpan apa adanya, karakter selanjutnya ditambah prefix\n",
        "        alphabet = []\n",
        "        for word in self.word_freqs.keys():\n",
        "            if word[0] not in alphabet:\n",
        "                alphabet.append(word[0])\n",
        "            for letter in word[1:]:\n",
        "                if f\"##{letter}\" not in alphabet:\n",
        "                    alphabet.append(f\"##{letter}\")\n",
        "        alphabet.sort()\n",
        "        self.vocab.extend(alphabet)\n",
        "\n",
        "    def __compute_pair_scores(self) -> Dict[Tuple[str, str], float]:\n",
        "        # menghitung skor untuk setiap pasangan token\n",
        "        # skor dihitung berdasarkan frekuensi pasangan dibagi dengan\n",
        "        # perkalian frekuensi masing-masing token\n",
        "        letter_freqs = defaultdict(int)\n",
        "        pair_freqs = defaultdict(int)\n",
        "        for word, freq in self.word_freqs.items():\n",
        "            split = self.splits[word]\n",
        "            if len(split) == 1:\n",
        "                letter_freqs[split[0]] += freq\n",
        "                continue\n",
        "            for i in range(len(split) - 1):\n",
        "                pair = (split[i], split[i + 1])\n",
        "                letter_freqs[split[i]] += freq\n",
        "                pair_freqs[pair] += freq\n",
        "            letter_freqs[split[-1]] += freq\n",
        "        scores = {\n",
        "            pair: freq / (letter_freqs[pair[0]] * letter_freqs[pair[1]])\n",
        "            for pair, freq in pair_freqs.items()\n",
        "        }\n",
        "        return scores\n",
        "\n",
        "    def __find_best_pair(self, scores: Dict[Tuple[str, str], float]) -> Tuple[Tuple[str, str], float]:\n",
        "        # mencari pasangan dengan skor tertinggi\n",
        "        # mengembalikan tuple berisi pasangan terbaik dan skornya\n",
        "        best_pair = None\n",
        "        max_score = None\n",
        "\n",
        "        for pair, score in scores.items():\n",
        "            if max_score is None or max_score < score:\n",
        "                best_pair = pair\n",
        "                max_score = score\n",
        "\n",
        "        return best_pair, max_score\n",
        "\n",
        "    def __merge_pair(self, pair: Tuple[str, str]):\n",
        "        # menggabungkan dua token yang ada di vocab\n",
        "        # update hasil split dari kata-kata dengan hasil terbaru\n",
        "        a, b = pair\n",
        "        for word in self.word_freqs:\n",
        "            split = self.splits[word]\n",
        "            if len(split) == 1:\n",
        "                continue\n",
        "            i = 0\n",
        "            while i < len(split) - 1:\n",
        "                if split[i] == a and split[i + 1] == b:\n",
        "                    merge = a + b[2:] if b.startswith(\"##\") else a + b\n",
        "                    split = split[:i] + [merge] + split[i + 2 :]\n",
        "                else:\n",
        "                    i += 1\n",
        "            self.splits[word] = split\n",
        "\n",
        "    def train(self, corpus: List[str]):\n",
        "        # melatih tokenizer dengan corpus yang diberikan\n",
        "        # membangun vocabulary secara bertahap dengan menggabungkan pasangan terbaik\n",
        "        for text in corpus:\n",
        "            words = tokenize_regex(text, tokenizer)\n",
        "            for word in words:\n",
        "                self.word_freqs[word] += 1\n",
        "\n",
        "        # inisialisasi splits untuk setiap kata\n",
        "        # karakter pertama disimpan apa adanya, yang lain ditambah prefix\n",
        "        self.splits = {\n",
        "            word: [c if i == 0 else f\"##{c}\" for i, c in enumerate(word)]\n",
        "            for word in self.word_freqs.keys()\n",
        "        }\n",
        "\n",
        "        # buat alphabet awal\n",
        "        self.__create_initial_alphabet()\n",
        "\n",
        "        # iterasi sampai ukuran vocab tercapai\n",
        "        while len(self.vocab) < self.vocab_size:\n",
        "            scores = self.__compute_pair_scores()\n",
        "            best_pair, max_score = self.__find_best_pair(scores)\n",
        "            self.__merge_pair(best_pair)\n",
        "            new_token = (\n",
        "                best_pair[0] + best_pair[1][2:]\n",
        "                if best_pair[1].startswith(\"##\")\n",
        "                else best_pair[0] + best_pair[1]\n",
        "            )\n",
        "            self.vocab.append(new_token)\n",
        "\n",
        "            print(f\"Current vocab size: {len(self.vocab)}, Merged: {best_pair} with score: {max_score:.4f}\")\n",
        "\n",
        "    def encode_word(self, word: str) -> List[str]:\n",
        "        # mengubah sebuah kata menjadi token-token\n",
        "        # menggunakan algoritma greedy dari kiri ke kanan\n",
        "        tokens = []\n",
        "        while len(word) > 0:\n",
        "            i = len(word)\n",
        "            while i > 0 and word[:i] not in self.vocab:\n",
        "                i -= 1\n",
        "            if i == 0:\n",
        "                return [\"[UNK]\"]\n",
        "            tokens.append(word[:i])\n",
        "            word = word[i:]\n",
        "            if len(word) > 0:\n",
        "                word = f\"##{word}\"\n",
        "\n",
        "        return tokens\n",
        "\n",
        "    def tokenize(self, text: str) -> List[str]:\n",
        "        # melakukan tokenisasi untuk kalimat yang diberikan\n",
        "        # memecah teks menjadi kata-kata, lalu menerapkan encode_word pada setiap kata\n",
        "        words = tokenize_regex(text, tokenizer)\n",
        "        encoded_words = [self.encode_word(word) for word in words]\n",
        "        return sum(encoded_words, [])"
      ]
    },
    {
      "cell_type": "code",
      "execution_count": 32,
      "metadata": {
        "id": "aEY3vDEhGMva"
      },
      "outputs": [
        {
          "name": "stdout",
          "output_type": "stream",
          "text": [
            "Current vocab size: 94, Merged: ('##á', '##ñ') with score: 0.2000\n",
            "Current vocab size: 95, Merged: ('##_', '##_') with score: 0.0005\n",
            "Current vocab size: 96, Merged: ('ö', '##z') with score: 0.0003\n",
            "Current vocab size: 97, Merged: ('##f', '##__') with score: 0.0001\n",
            "Current vocab size: 98, Merged: ('##1', '##9') with score: 0.0001\n",
            "Current vocab size: 99, Merged: ('##1', '##8') with score: 0.0001\n",
            "Current vocab size: 100, Merged: ('##0', '##19') with score: 0.0000\n",
            "Current vocab size: 101, Merged: ('##0', '##18') with score: 0.0001\n",
            "Current vocab size: 102, Merged: ('5', '##19') with score: 0.0000\n",
            "Current vocab size: 103, Merged: ('6', '##4') with score: 0.0000\n",
            "Current vocab size: 104, Merged: ('64', '##0') with score: 0.0001\n",
            "Current vocab size: 105, Merged: ('2', '##018') with score: 0.0000\n",
            "Current vocab size: 106, Merged: ('##2', '##018') with score: 0.0002\n",
            "Current vocab size: 107, Merged: ('2', '##019') with score: 0.0000\n",
            "Current vocab size: 108, Merged: ('##2', '##019') with score: 0.0002\n",
            "Current vocab size: 109, Merged: ('3', '##019') with score: 0.0002\n",
            "Current vocab size: 110, Merged: ('1', '##019') with score: 0.0001\n",
            "Current vocab size: 111, Merged: ('##1', '##7') with score: 0.0000\n",
            "Current vocab size: 112, Merged: ('##0', '##17') with score: 0.0001\n",
            "Current vocab size: 113, Merged: ('2', '##017') with score: 0.0001\n",
            "Current vocab size: 114, Merged: ('0', '##17') with score: 0.0000\n",
            "Current vocab size: 115, Merged: ('5', '##17') with score: 0.0000\n",
            "Current vocab size: 116, Merged: ('4', '##17') with score: 0.0000\n",
            "Current vocab size: 117, Merged: ('1', '##17') with score: 0.0000\n",
            "Current vocab size: 118, Merged: ('6', '##17') with score: 0.0001\n",
            "Current vocab size: 119, Merged: ('3', '##17') with score: 0.0001\n",
            "Current vocab size: 120, Merged: ('##17', '##8') with score: 0.0001\n",
            "Current vocab size: 121, Merged: ('##8', '##17') with score: 0.0001\n",
            "Current vocab size: 122, Merged: ('1', '##817') with score: 0.0001\n",
            "Current vocab size: 123, Merged: ('##9', '##17') with score: 0.0001\n",
            "Current vocab size: 124, Merged: ('1', '##917') with score: 0.0001\n",
            "Current vocab size: 125, Merged: ('y', '##áñ') with score: 0.0000\n",
            "Current vocab size: 126, Merged: ('##9', '##9') with score: 0.0000\n",
            "Current vocab size: 127, Merged: ('1', '##99') with score: 0.0001\n",
            "Current vocab size: 128, Merged: ('9', '##99') with score: 0.0002\n",
            "Current vocab size: 129, Merged: ('7', '##99') with score: 0.0001\n",
            "Current vocab size: 130, Merged: ('4', '##99') with score: 0.0001\n",
            "Current vocab size: 131, Merged: ('6', '##99') with score: 0.0001\n",
            "Current vocab size: 132, Merged: ('5', '##99') with score: 0.0001\n",
            "Current vocab size: 133, Merged: ('8', '##99') with score: 0.0001\n",
            "Current vocab size: 134, Merged: ('##4', '##99') with score: 0.0001\n",
            "Current vocab size: 135, Merged: ('##499', '##9') with score: 0.0003\n",
            "Current vocab size: 136, Merged: ('##4999', '##3') with score: 0.0004\n",
            "Current vocab size: 137, Merged: ('3', '##99') with score: 0.0001\n",
            "Current vocab size: 138, Merged: ('1', '##499') with score: 0.0001\n",
            "Current vocab size: 139, Merged: ('199', '##9') with score: 0.0001\n",
            "Current vocab size: 140, Merged: ('199', '##8') with score: 0.0001\n",
            "Current vocab size: 141, Merged: ('199', '##7') with score: 0.0001\n",
            "Current vocab size: 142, Merged: ('699', '##0') with score: 0.0001\n",
            "Current vocab size: 143, Merged: ('0', '##99') with score: 0.0001\n",
            "Current vocab size: 144, Merged: ('2', '##99') with score: 0.0001\n",
            "Current vocab size: 145, Merged: ('199', '##1') with score: 0.0000\n",
            "Current vocab size: 146, Merged: ('4', '##18') with score: 0.0000\n",
            "Current vocab size: 147, Merged: ('1', '##9') with score: 0.0000\n",
            "Current vocab size: 148, Merged: ('9', '##9') with score: 0.0001\n",
            "Current vocab size: 149, Merged: ('19', '##19') with score: 0.0000\n",
            "Current vocab size: 150, Merged: ('4', '##9') with score: 0.0000\n",
            "Current vocab size: 151, Merged: ('6', '##9') with score: 0.0000\n",
            "Current vocab size: 152, Merged: ('8', '##9') with score: 0.0000\n",
            "Current vocab size: 153, Merged: ('64', '##9') with score: 0.0000\n",
            "Current vocab size: 154, Merged: ('7', '##9') with score: 0.0000\n",
            "Current vocab size: 155, Merged: ('0', '##9') with score: 0.0000\n",
            "Current vocab size: 156, Merged: ('3', '##9') with score: 0.0000\n",
            "Current vocab size: 157, Merged: ('5', '##9') with score: 0.0000\n",
            "Current vocab size: 158, Merged: ('59', '##7') with score: 0.0001\n",
            "Current vocab size: 159, Merged: ('##_', '##9') with score: 0.0000\n",
            "Current vocab size: 160, Merged: ('##8', '##9') with score: 0.0000\n",
            "Current vocab size: 161, Merged: ('19', '##89') with score: 0.0003\n",
            "Current vocab size: 162, Merged: ('3', '##89') with score: 0.0001\n",
            "Current vocab size: 163, Merged: ('8', '##89') with score: 0.0001\n",
            "Current vocab size: 164, Merged: ('5', '##89') with score: 0.0001\n",
            "Current vocab size: 165, Merged: ('1', '##89') with score: 0.0001\n",
            "Current vocab size: 166, Merged: ('7', '##89') with score: 0.0001\n",
            "Current vocab size: 167, Merged: ('6', '##89') with score: 0.0001\n",
            "Current vocab size: 168, Merged: ('4', '##89') with score: 0.0001\n",
            "Current vocab size: 169, Merged: ('##4', '##89') with score: 0.0001\n",
            "Current vocab size: 170, Merged: ('##8', '##489') with score: 0.0004\n",
            "Current vocab size: 171, Merged: ('##8', '##8489') with score: 0.0004\n",
            "Current vocab size: 172, Merged: ('3', '##88489') with score: 0.0003\n",
            "Current vocab size: 173, Merged: ('388489', '##6') with score: 0.0001\n",
            "Current vocab size: 174, Merged: ('189', '##4') with score: 0.0001\n",
            "Current vocab size: 175, Merged: ('2', '##89') with score: 0.0001\n",
            "Current vocab size: 176, Merged: ('389', '##7') with score: 0.0001\n",
            "Current vocab size: 177, Merged: ('3897', '##5') with score: 0.0003\n",
            "Current vocab size: 178, Merged: ('38975', '##8') with score: 0.0004\n",
            "Current vocab size: 179, Merged: ('389758', '##2') with score: 0.0002\n",
            "Current vocab size: 180, Merged: ('389', '##4') with score: 0.0000\n",
            "Current vocab size: 181, Merged: ('3894', '##1') with score: 0.0002\n",
            "Current vocab size: 182, Merged: ('38941', '##0') with score: 0.0001\n",
            "Current vocab size: 183, Merged: ('389410', '##8') with score: 0.0004\n",
            "Current vocab size: 184, Merged: ('389', '##3') with score: 0.0001\n",
            "Current vocab size: 185, Merged: ('3893', '##8') with score: 0.0005\n",
            "Current vocab size: 186, Merged: ('38938', '##3') with score: 0.0004\n",
            "Current vocab size: 187, Merged: ('389383', '##2') with score: 0.0002\n",
            "Current vocab size: 188, Merged: ('389', '##2') with score: 0.0000\n",
            "Current vocab size: 189, Merged: ('3892', '##9') with score: 0.0021\n",
            "Current vocab size: 190, Merged: ('38929', '##8') with score: 0.0005\n",
            "Current vocab size: 191, Merged: ('389298', '##8') with score: 0.0005\n",
            "Current vocab size: 192, Merged: ('199', '##5') with score: 0.0000\n",
            "Current vocab size: 193, Merged: ('199', '##2') with score: 0.0000\n",
            "Current vocab size: 194, Merged: ('199', '##0') with score: 0.0000\n",
            "Current vocab size: 195, Merged: ('199', '##4') with score: 0.0001\n",
            "Current vocab size: 196, Merged: ('199', '##6') with score: 0.0001\n",
            "Current vocab size: 197, Merged: ('199', '##3') with score: 0.0001\n",
            "Current vocab size: 198, Merged: ('é', '##c') with score: 0.0000\n",
            "Current vocab size: 199, Merged: ('6', '##18') with score: 0.0000\n",
            "Current vocab size: 200, Merged: ('1', '##18') with score: 0.0000\n",
            "Current vocab size: 201, Merged: ('##8', '##18') with score: 0.0000\n",
            "Current vocab size: 202, Merged: ('##818', '##7') with score: 0.0002\n",
            "Current vocab size: 203, Merged: ('##8', '##8187') with score: 0.0005\n",
            "Current vocab size: 204, Merged: ('##88187', '##8') with score: 0.0005\n",
            "Current vocab size: 205, Merged: ('3', '##881878') with score: 0.0003\n",
            "Current vocab size: 206, Merged: ('##4', '##818') with score: 0.0002\n",
            "Current vocab size: 207, Merged: ('##8', '##4818') with score: 0.0005\n",
            "Current vocab size: 208, Merged: ('##8', '##84818') with score: 0.0005\n",
            "Current vocab size: 209, Merged: ('0', '##818') with score: 0.0003\n",
            "Current vocab size: 210, Merged: ('3', '##884818') with score: 0.0003\n",
            "Current vocab size: 211, Merged: ('3', '##18') with score: 0.0000\n",
            "Current vocab size: 212, Merged: ('0', '##18') with score: 0.0000\n",
            "Current vocab size: 213, Merged: ('5', '##18') with score: 0.0000\n",
            "Current vocab size: 214, Merged: ('9', '##18') with score: 0.0000\n",
            "Current vocab size: 215, Merged: ('##3', '##18') with score: 0.0000\n",
            "Current vocab size: 216, Merged: ('8', '##18') with score: 0.0000\n",
            "Current vocab size: 217, Merged: ('7', '##18') with score: 0.0000\n",
            "Current vocab size: 218, Merged: ('189', '##5') with score: 0.0000\n",
            "Current vocab size: 219, Merged: ('##4', '##18') with score: 0.0000\n",
            "Current vocab size: 220, Merged: ('2', '##18') with score: 0.0000\n",
            "Current vocab size: 221, Merged: ('79', '##5') with score: 0.0000\n",
            "Current vocab size: 222, Merged: ('889', '##0') with score: 0.0000\n",
            "Current vocab size: 223, Merged: ('1', '##7') with score: 0.0000\n",
            "Current vocab size: 224, Merged: ('99', '##7') with score: 0.0000\n",
            "Current vocab size: 225, Merged: ('9', '##7') with score: 0.0000\n",
            "Current vocab size: 226, Merged: ('97', '##5') with score: 0.0000\n",
            "Current vocab size: 227, Merged: ('97', '##8') with score: 0.0000\n",
            "Current vocab size: 228, Merged: ('7', '##7') with score: 0.0000\n",
            "Current vocab size: 229, Merged: ('77', '##9') with score: 0.0001\n",
            "Current vocab size: 230, Merged: ('77', '##8') with score: 0.0001\n",
            "Current vocab size: 231, Merged: ('9', '##19') with score: 0.0000\n",
            "Current vocab size: 232, Merged: ('1', '##4') with score: 0.0000\n",
            "Current vocab size: 233, Merged: ('##1', '##4') with score: 0.0000\n",
            "Current vocab size: 234, Merged: ('##0', '##14') with score: 0.0001\n",
            "Current vocab size: 235, Merged: ('7', '##14') with score: 0.0002\n",
            "Current vocab size: 236, Merged: ('2', '##014') with score: 0.0001\n",
            "Current vocab size: 237, Merged: ('4', '##14') with score: 0.0001\n",
            "Current vocab size: 238, Merged: ('0', '##14') with score: 0.0000\n",
            "Current vocab size: 239, Merged: ('17', '##14') with score: 0.0000\n",
            "Current vocab size: 240, Merged: ('##q', '##4') with score: 0.0000\n",
            "Current vocab size: 241, Merged: ('##q4', '##5') with score: 0.0003\n",
            "Current vocab size: 242, Merged: ('19', '##4') with score: 0.0000\n",
            "Current vocab size: 243, Merged: ('194', '##5') with score: 0.0002\n",
            "Current vocab size: 244, Merged: ('194', '##7') with score: 0.0001\n",
            "Current vocab size: 245, Merged: ('194', '##9') with score: 0.0001\n",
            "Current vocab size: 246, Merged: ('194', '##6') with score: 0.0001\n",
            "Current vocab size: 247, Merged: ('194', '##4') with score: 0.0001\n",
            "Current vocab size: 248, Merged: ('194', '##8') with score: 0.0001\n",
            "Current vocab size: 249, Merged: ('194', '##3') with score: 0.0001\n",
            "Current vocab size: 250, Merged: ('194', '##2') with score: 0.0000\n",
            "Current vocab size: 251, Merged: ('69', '##4') with score: 0.0000\n",
            "Current vocab size: 252, Merged: ('3', '##14') with score: 0.0000\n",
            "Current vocab size: 253, Merged: ('5', '##14') with score: 0.0000\n",
            "Current vocab size: 254, Merged: ('1', '##14') with score: 0.0000\n",
            "Current vocab size: 255, Merged: ('114', '##8') with score: 0.0000\n",
            "Current vocab size: 256, Merged: ('8', '##14') with score: 0.0000\n",
            "Current vocab size: 257, Merged: ('##14', '##4') with score: 0.0000\n",
            "Current vocab size: 258, Merged: ('##x', '##144') with score: 0.0005\n",
            "Current vocab size: 259, Merged: ('##0', '##x144') with score: 0.0001\n",
            "Current vocab size: 260, Merged: ('##4', '##0x144') with score: 0.0007\n",
            "Current vocab size: 261, Merged: ('##0', '##40x144') with score: 0.0001\n",
            "Current vocab size: 262, Merged: ('3', '##040x144') with score: 0.0003\n",
            "Current vocab size: 263, Merged: ('3040x144', '##0') with score: 0.0001\n",
            "Current vocab size: 264, Merged: ('##4', '##9') with score: 0.0000\n",
            "Current vocab size: 265, Merged: ('8', '##49') with score: 0.0001\n",
            "Current vocab size: 266, Merged: ('4', '##49') with score: 0.0001\n",
            "Current vocab size: 267, Merged: ('9', '##49') with score: 0.0001\n",
            "Current vocab size: 268, Merged: ('0', '##49') with score: 0.0001\n",
            "Current vocab size: 269, Merged: ('5', '##49') with score: 0.0001\n",
            "Current vocab size: 270, Merged: ('7', '##49') with score: 0.0001\n",
            "Current vocab size: 271, Merged: ('##8', '##49') with score: 0.0001\n",
            "Current vocab size: 272, Merged: ('2', '##849') with score: 0.0001\n",
            "Current vocab size: 273, Merged: ('3', '##49') with score: 0.0001\n",
            "Current vocab size: 274, Merged: ('2', '##49') with score: 0.0000\n",
            "Current vocab size: 275, Merged: ('99', '##4') with score: 0.0000\n",
            "Current vocab size: 276, Merged: ('##8', '##14') with score: 0.0000\n",
            "Current vocab size: 277, Merged: ('##814', '##3') with score: 0.0004\n",
            "Current vocab size: 278, Merged: ('3', '##8143') with score: 0.0003\n",
            "Current vocab size: 279, Merged: ('38143', '##2') with score: 0.0002\n",
            "Current vocab size: 280, Merged: ('381432', '##1') with score: 0.0003\n",
            "Current vocab size: 281, Merged: ('7', '##4') with score: 0.0000\n",
            "Current vocab size: 282, Merged: ('99', '##5') with score: 0.0000\n",
            "Current vocab size: 283, Merged: ('1', '##8') with score: 0.0000\n",
            "Current vocab size: 284, Merged: ('18', '##19') with score: 0.0001\n",
            "Current vocab size: 285, Merged: ('9', '##8') with score: 0.0000\n",
            "Current vocab size: 286, Merged: ('19', '##8') with score: 0.0000\n",
            "Current vocab size: 287, Merged: ('198', '##4') with score: 0.0002\n",
            "Current vocab size: 288, Merged: ('198', '##8') with score: 0.0001\n",
            "Current vocab size: 289, Merged: ('198', '##3') with score: 0.0001\n",
            "Current vocab size: 290, Merged: ('198', '##7') with score: 0.0001\n",
            "Current vocab size: 291, Merged: ('198', '##1') with score: 0.0000\n",
            "Current vocab size: 292, Merged: ('198', '##6') with score: 0.0001\n",
            "Current vocab size: 293, Merged: ('198', '##2') with score: 0.0001\n",
            "Current vocab size: 294, Merged: ('198', '##0') with score: 0.0001\n",
            "Current vocab size: 295, Merged: ('98', '##4') with score: 0.0000\n",
            "Current vocab size: 296, Merged: ('8', '##8') with score: 0.0000\n",
            "Current vocab size: 297, Merged: ('88', '##8') with score: 0.0000\n",
            "Current vocab size: 298, Merged: ('4', '##8') with score: 0.0000\n",
            "Current vocab size: 299, Merged: ('48', '##8') with score: 0.0001\n",
            "Current vocab size: 300, Merged: ('7', '##8') with score: 0.0000\n"
          ]
        }
      ],
      "source": [
        "wp = WordPieceTokenizer(300)\n",
        "wp.train(corpus)"
      ]
    },
    {
      "cell_type": "markdown",
      "metadata": {
        "id": "sQnsIfqsmP7a"
      },
      "source": [
        "Coba perhatikan token yang dimerge dan scorenya. Mengapa bisa seperti itu?"
      ]
    },
    {
      "cell_type": "markdown",
      "metadata": {
        "id": "xk40Mv-WmVc1"
      },
      "source": [
        "> Jika kita perhatikan token yang di-merge dan scorenya pada proses training WordPiece tokenizer, kita bisa melihat bahwa banyak token yang dimerge adalah kombinasi digit (seperti \"##1\" dan \"##9\" menjadi \"##19\") dan karakter khusus (seperti \"##_\" dan \"##_\" menjadi \"##__\"), dengan skor yang sangat rendah mendekati nol. Hal ini terjadi karena cara WordPiece menghitung skor untuk setiap pasangan token. Skor dihitung berdasarkan frekuensi pasangan dibagi dengan perkalian frekuensi masing-masing token individual: $\\frac{\\text{freq}(X,Y)}{\\text{freq}(X) \\times \\text{freq}(Y)}$. Dengan rumus ini, pasangan yang muncul bersama secara konsisten mendapatkan skor lebih tinggi.\n",
        "\n",
        "> Untuk digit dan karakter khusus yang mendapatkan skor sangat rendah, ini menunjukkan bahwa meskipun pasangan ini muncul bersama dalam korpus, kemunculannya relatif jarang dibandingkan dengan kemunculan individu masing-masing karakter. Misalnya, angka \"1\" dan \"9\" mungkin muncul di banyak konteks berbeda secara terpisah, sehingga ketika keduanya muncul bersama sebagai \"19\", proporsinya sangat kecil dibandingkan total kemunculan \"1\" dan \"9\" di seluruh korpus. Selain itu, korpus yang digunakan untuk training mungkin memiliki banyak angka dan karakter khusus dalam konteks tertentu (seperti tahun \"2018\", \"2019\", atau format penulisan khusus), yang menyebabkan algoritma mengidentifikasi pola-pola ini meskipun secara linguistik mungkin kurang bermakna."
      ]
    },
    {
      "cell_type": "markdown",
      "metadata": {
        "id": "XOBdDee9ihaq"
      },
      "source": [
        "Kemudian akan kita bandingkan ketiga tokenzier yang sudah kita buat."
      ]
    },
    {
      "cell_type": "code",
      "execution_count": 33,
      "metadata": {
        "id": "nKM0ELQaG83e"
      },
      "outputs": [
        {
          "name": "stdout",
          "output_type": "stream",
          "text": [
            "Vocab size regex: \t37939\n",
            "Vocab size BPE: \t300\n",
            "Vocab size WordPiece: \t300\n"
          ]
        }
      ],
      "source": [
        "print(f\"Vocab size regex: \\t{len(bpe.splits)}\")\n",
        "print(f\"Vocab size BPE: \\t{len(bpe.vocab)}\")\n",
        "print(f\"Vocab size WordPiece: \\t{len(wp.vocab)}\")"
      ]
    },
    {
      "cell_type": "markdown",
      "metadata": {
        "id": "hq9sAGtuitjc"
      },
      "source": [
        "Kita bandingkan hasilnya"
      ]
    },
    {
      "cell_type": "code",
      "execution_count": 34,
      "metadata": {
        "id": "5PmkgFkrJc5K"
      },
      "outputs": [
        {
          "name": "stdout",
          "output_type": "stream",
          "text": [
            "Halo, nama saya Andi dan saya sedang belajar Information Retrieval\n",
            "BPE: \t['h', 'al', 'o', 'n', 'ama', 'saya', 'an', 'di', 'dan', 'saya', 'se', 'dang', 'bel', 'a', 'jar', 'in', 'f', 'or', 'm', 'ati', 'on', 'r', 'et', 'ri', 'e', 'v', 'al']\n",
            "WP: \t['h', '##a', '##l', '##o', 'n', '##a', '##m', '##a', 's', '##a', '##y', '##a', 'a', '##n', '##d', '##i', 'd', '##a', '##n', 's', '##a', '##y', '##a', 's', '##e', '##d', '##a', '##n', '##g', 'b', '##e', '##l', '##a', '##j', '##a', '##r', 'i', '##n', '##f', '##o', '##r', '##m', '##a', '##t', '##i', '##o', '##n', 'r', '##e', '##t', '##r', '##i', '##e', '##v', '##a', '##l']\n",
            "Regex: \t['halo', 'nama', 'saya', 'andi', 'dan', 'saya', 'sedang', 'belajar', 'information', '<UNK>']\n",
            "\n",
            "Erling Braut Håland adalah seorang pemain sepakbola profesional berkebangsaan Norwegia\n",
            "BPE: \t['er', 'l', 'ing', 'b', 'ra', 'ut', 'h', '<UNK>', 'lan', 'd', 'a', 'dal', 'ah', 'se', 'or', 'ang', 'pem', 'ain', 'se', 'p', 'ak', 'bo', 'la', 'pro', 'f', 'esi', 'on', 'al', 'ber', 'ke', 'bang', 'sa', 'an', 'n', 'or', 'w', 'e', 'gi', 'a']\n",
            "WP: \t['e', '##r', '##l', '##i', '##n', '##g', 'b', '##r', '##a', '##u', '##t', '[UNK]', 'a', '##d', '##a', '##l', '##a', '##h', 's', '##e', '##o', '##r', '##a', '##n', '##g', 'p', '##e', '##m', '##a', '##i', '##n', 's', '##e', '##p', '##a', '##k', '##b', '##o', '##l', '##a', 'p', '##r', '##o', '##f', '##e', '##s', '##i', '##o', '##n', '##a', '##l', 'b', '##e', '##r', '##k', '##e', '##b', '##a', '##n', '##g', '##s', '##a', '##a', '##n', 'n', '##o', '##r', '##w', '##e', '##g', '##i', '##a']\n",
            "Regex: \t['<UNK>', '<UNK>', '<UNK>', 'adalah', 'seorang', 'pemain', 'sepakbola', 'profesional', 'berkebangsaan', 'norwegia']\n",
            "\n",
            "Wojciech Tomasz Szczęsny adalah seorang kiper yang bermain di tim FC Barcelona\n",
            "BPE: \t['w', 'o', 'j', 'c', 'i', 'e', 'ch', 't', 'om', 'as', 'z', 's', 'z', 'c', 'z', '<UNK>', 's', 'n', 'y', 'a', 'dal', 'ah', 'se', 'or', 'ang', 'ki', 'per', 'yang', 'ber', 'ma', 'in', 'di', 'tim', 'f', 'c', 'bar', 'c', 'el', 'on', 'a']\n",
            "WP: \t['w', '##o', '##j', '##c', '##i', '##e', '##c', '##h', 't', '##o', '##m', '##a', '##s', '##z', '[UNK]', 'a', '##d', '##a', '##l', '##a', '##h', 's', '##e', '##o', '##r', '##a', '##n', '##g', 'k', '##i', '##p', '##e', '##r', 'y', '##a', '##n', '##g', 'b', '##e', '##r', '##m', '##a', '##i', '##n', 'd', '##i', 't', '##i', '##m', 'f', '##c', 'b', '##a', '##r', '##c', '##e', '##l', '##o', '##n', '##a']\n",
            "Regex: \t['wojciech', '<UNK>', '<UNK>', 'adalah', 'seorang', 'kiper', 'yang', 'bermain', 'di', 'tim', 'fc', 'barcelona']\n",
            "\n",
            "Di kejauhan, tampak seorang petani renta tengah mencangkul tanah yang gembur di lereng gunung seraya menatap cakrawala nan sendu, sementara angin semilir membawa aroma petrikor yang menyelinap di antara rimbunnya semak belukar\n",
            "BPE: \t['di', 'ke', 'ja', 'u', 'han', 't', 'am', 'p', 'ak', 'se', 'or', 'ang', 'pe', 'tan', 'i', 'r', 'en', 'ta', 't', 'eng', 'ah', 'menc', 'ang', 'ku', 'l', 'tan', 'ah', 'yang', 'g', 'em', 'b', 'ur', 'di', 'l', 'er', 'eng', 'gun', 'ung', 'ser', 'a', 'ya', 'men', 'ata', 'p', 'c', 'ak', 'ra', 'w', 'ala', 'n', 'an', 'sen', 'du', 'se', 'men', 't', 'ara', 'ang', 'in', 'se', 'mi', 'li', 'r', 'mem', 'ba', 'wa', 'ar', 'om', 'a', 'p', 'et', 'ri', 'k', 'or', 'yang', 'meny', 'el', 'in', 'ap', 'di', 'ant', 'ara', 'ri', 'm', 'b', 'un', 'nya', 'se', 'm', 'ak', 'bel', 'u', 'kar']\n",
            "WP: \t['d', '##i', 'k', '##e', '##j', '##a', '##u', '##h', '##a', '##n', 't', '##a', '##m', '##p', '##a', '##k', 's', '##e', '##o', '##r', '##a', '##n', '##g', 'p', '##e', '##t', '##a', '##n', '##i', 'r', '##e', '##n', '##t', '##a', 't', '##e', '##n', '##g', '##a', '##h', 'm', '##e', '##n', '##c', '##a', '##n', '##g', '##k', '##u', '##l', 't', '##a', '##n', '##a', '##h', 'y', '##a', '##n', '##g', 'g', '##e', '##m', '##b', '##u', '##r', 'd', '##i', 'l', '##e', '##r', '##e', '##n', '##g', 'g', '##u', '##n', '##u', '##n', '##g', 's', '##e', '##r', '##a', '##y', '##a', 'm', '##e', '##n', '##a', '##t', '##a', '##p', 'c', '##a', '##k', '##r', '##a', '##w', '##a', '##l', '##a', 'n', '##a', '##n', 's', '##e', '##n', '##d', '##u', 's', '##e', '##m', '##e', '##n', '##t', '##a', '##r', '##a', 'a', '##n', '##g', '##i', '##n', 's', '##e', '##m', '##i', '##l', '##i', '##r', 'm', '##e', '##m', '##b', '##a', '##w', '##a', 'a', '##r', '##o', '##m', '##a', 'p', '##e', '##t', '##r', '##i', '##k', '##o', '##r', 'y', '##a', '##n', '##g', 'm', '##e', '##n', '##y', '##e', '##l', '##i', '##n', '##a', '##p', 'd', '##i', 'a', '##n', '##t', '##a', '##r', '##a', 'r', '##i', '##m', '##b', '##u', '##n', '##n', '##y', '##a', 's', '##e', '##m', '##a', '##k', 'b', '##e', '##l', '##u', '##k', '##a', '##r']\n",
            "Regex: \t['di', 'kejauhan', 'tampak', 'seorang', 'petani', 'renta', 'tengah', 'mencangkul', 'tanah', 'yang', '<UNK>', 'di', 'lereng', 'gunung', 'seraya', 'menatap', 'cakrawala', 'nan', 'sendu', 'sementara', 'angin', '<UNK>', 'membawa', 'aroma', '<UNK>', 'yang', '<UNK>', 'di', 'antara', '<UNK>', 'semak', '<UNK>']\n",
            "\n"
          ]
        }
      ],
      "source": [
        "test_docs = [\n",
        "    \"Halo, nama saya Andi dan saya sedang belajar Information Retrieval\",\n",
        "    \"Erling Braut Håland adalah seorang pemain sepakbola profesional berkebangsaan Norwegia\",\n",
        "    \"Wojciech Tomasz Szczęsny adalah seorang kiper yang bermain di tim FC Barcelona\",\n",
        "    \"Di kejauhan, tampak seorang petani renta tengah mencangkul tanah yang gembur di lereng gunung seraya menatap cakrawala nan sendu, sementara angin semilir membawa aroma petrikor yang menyelinap di antara rimbunnya semak belukar\"\n",
        "]\n",
        "\n",
        "def tokenize_with_unk(tokens, vocab):\n",
        "    return [token if token in vocab else \"<UNK>\" for token in tokens]\n",
        "\n",
        "for doc in test_docs:\n",
        "    print(doc)\n",
        "    print(f\"BPE: \\t{bpe.tokenize(doc)}\")\n",
        "    print(f\"WP: \\t{wp.tokenize(doc)}\")\n",
        "    print(f\"Regex: \\t{tokenize_with_unk(tokenize_regex(doc, tokenizer), bpe.splits)}\")\n",
        "    print()"
      ]
    },
    {
      "cell_type": "markdown",
      "metadata": {
        "id": "hgQVb7jQi7q6"
      },
      "source": [
        "Berdasakan dari ketiga tokenizer yang sudah kita buat, jawablah 2 pertanyaan dibawah ini.\n",
        "1. menurutmu mana yang paling cocok digunakan untuk bahasa Indonesia?\n",
        "2. apakah WordPiece tokenizer dapat digunakan dalam bahasa tanpa spasi Jepang? Modifikasi apa yang harus dibuat?"
      ]
    },
    {
      "cell_type": "markdown",
      "metadata": {
        "id": "kCbMkJWkmwO7"
      },
      "source": [
        "> Dari ketiga tokenizer, menurut saya BPE (Byte-Pair Encoding) lebih cocok untuk bahasa Indonesia. Hal ini karena bahasa Indonesia memiliki banyak kata majemuk (e.g., \"kebangsaan\", \"mencangkul\") sehingga BPE yang menggabungkan pasangan karakter berfrekuensi tinggi cocok untuk menangkap pola ini. Kemudian, BPE menghasilkan subword yang lebih bermakna dan tidak terlalu granular dibandingkan WordPiece. Contoh pada kata \"mencangkul\", BPE membaginya menjadi menc, ang, ku, l yang masih mencerminkan akar kata (e.g., \"cangkul\"). Sementara WordPiece memecahnya menjadi unit sangat kecil (m, ##e, ##n, ##c, dll.) yang kurang bermakna. Selain itu, BPE lebih baik menangani kata langka (seperti nama \"Wojciech\") dengan subword yang konsisten, sedangkan regex tokenizer menghasilkan banyak \\<UNK\\> karena vocab berbasis kata utuh.\n",
        "\n",
        "> WordPiece tokenizer dapat digunakan dalam bahasa tanpa spasi jepang, tetapi perlu modifikasi karena WordPiece bergantung pada pemisah spasi untuk segmentasi awal kata sehingga perlu metode alternatif untuk membagi teks menjadi \"kata\" sebelum tokenisasi. Kita bisa menggunakan alat segmentasi morfologis seperti MeCab untuk memisahkan teks Jepang menjadi unit morfem sebelum diteruskan ke WordPiece. Selain itu, kita perlu menambahkan logika khusus untuk menangani transisi antara Kanji, Hiragana, dan Katakana yang sering muncul dalam satu kalimat dan mengubah proses penciptaan alfabet awal untuk mencakup semua karakter dalam ketiga sistem penulisan Jepang."
      ]
    },
    {
      "cell_type": "markdown",
      "metadata": {},
      "source": []
    }
  ],
  "metadata": {
    "colab": {
      "provenance": []
    },
    "kernelspec": {
      "display_name": "Python 3",
      "name": "python3"
    },
    "language_info": {
      "codemirror_mode": {
        "name": "ipython",
        "version": 3
      },
      "file_extension": ".py",
      "mimetype": "text/x-python",
      "name": "python",
      "nbconvert_exporter": "python",
      "pygments_lexer": "ipython3",
      "version": "3.13.0"
    }
  },
  "nbformat": 4,
  "nbformat_minor": 0
}
